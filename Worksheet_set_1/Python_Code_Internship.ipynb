{
  "cells": [
    {
      "cell_type": "markdown",
      "metadata": {
        "id": "3IAvStb6Tb1W"
      },
      "source": [
        "Write a python program to find the factorial of a number"
      ]
    },
    {
      "cell_type": "code",
      "execution_count": 1,
      "metadata": {
        "colab": {
          "base_uri": "https://localhost:8080/"
        },
        "id": "iQJzK25pTb1f",
        "outputId": "5a6ab25e-d296-4c4e-bb88-66baa3675229"
      },
      "outputs": [
        {
          "output_type": "stream",
          "name": "stdout",
          "text": [
            "Enter a number : 5\n",
            "The factorial of 5 is 120\n"
          ]
        }
      ],
      "source": [
        "number = int(input(\"Enter a number : \"))\n",
        "fact = 1\n",
        "for i in range(1,number+1):\n",
        "    fact = fact * i\n",
        "print(f\"The factorial of {number} is {fact}\")"
      ]
    },
    {
      "cell_type": "markdown",
      "metadata": {
        "id": "qtaS4cGRTb1k"
      },
      "source": [
        "Write a python program to find whether a number is prime or composite."
      ]
    },
    {
      "cell_type": "code",
      "execution_count": 2,
      "metadata": {
        "colab": {
          "base_uri": "https://localhost:8080/"
        },
        "id": "_SmcXwHETb1l",
        "outputId": "9824f8bf-d783-4e82-dea4-b23f0a70f934"
      },
      "outputs": [
        {
          "output_type": "stream",
          "name": "stdout",
          "text": [
            "Enter a number : 37\n",
            "37 is a prime number\n"
          ]
        }
      ],
      "source": [
        "no = int(input(\"Enter a number : \"))\n",
        "if no > 1:\n",
        "    for i in range(2,no):\n",
        "        if (no % i) == 0:\n",
        "            print(f\"{no} is composite number\")\n",
        "            break\n",
        "    else:\n",
        "        print(f\"{no} is a prime number\")\n",
        "        \n",
        "elif (no == 0 or no == 1):\n",
        "    print(f\"{no} is neither a prime nor composite\")"
      ]
    },
    {
      "cell_type": "markdown",
      "metadata": {
        "id": "Bk5CyC4dTb1n"
      },
      "source": [
        "Write a python program to check whether a given string is palindrome or not."
      ]
    },
    {
      "cell_type": "code",
      "execution_count": 3,
      "metadata": {
        "colab": {
          "base_uri": "https://localhost:8080/"
        },
        "id": "-9TauMzeTb1p",
        "outputId": "fd796a51-21f2-4753-fd7a-9f016e09a29e"
      },
      "outputs": [
        {
          "output_type": "stream",
          "name": "stdout",
          "text": [
            "Enter a string : RADAR\n",
            "RADAR is a palindrome\n"
          ]
        }
      ],
      "source": [
        "x = input(\"Enter a string : \")\n",
        "w = ''\n",
        "for i in x:\n",
        "    w = i + w\n",
        "if(x == w):\n",
        "    print(f\"{x} is a palindrome\")\n",
        "else:\n",
        "    print(f\"{x} is not a palindrome\")"
      ]
    },
    {
      "cell_type": "markdown",
      "metadata": {
        "id": "IwL1EgaPTb1q"
      },
      "source": [
        "Write a Python program to get the third side of right-angled triangle from two given sides."
      ]
    },
    {
      "cell_type": "code",
      "execution_count": 5,
      "metadata": {
        "colab": {
          "base_uri": "https://localhost:8080/"
        },
        "id": "i4De5ENVTb1r",
        "outputId": "0b7b72c1-3fc3-4d5c-d445-749360166946"
      },
      "outputs": [
        {
          "output_type": "stream",
          "name": "stdout",
          "text": [
            "Enter the value of side 1 = 4\n",
            "Enter the value of side 2 = 3\n",
            "The value of third side = 5.0\n"
          ]
        }
      ],
      "source": [
        "import numpy as np\n",
        "a = int(input(\"Enter the value of side 1 = \"))\n",
        "b = int(input(\"Enter the value of side 2 = \"))\n",
        "c = np.sqrt(a*a + b*b)\n",
        "print(f\"The value of third side = {c}\")"
      ]
    },
    {
      "cell_type": "markdown",
      "metadata": {
        "id": "a6JjxPtkTb1t"
      },
      "source": [
        "Write a python program to print the frequency of each of the characters present in a given string."
      ]
    },
    {
      "cell_type": "code",
      "execution_count": 8,
      "metadata": {
        "colab": {
          "base_uri": "https://localhost:8080/"
        },
        "id": "-uWci_RJTb1u",
        "outputId": "bca2c893-bc8e-4319-ccce-d945b6e4fbb0"
      },
      "outputs": [
        {
          "output_type": "stream",
          "name": "stdout",
          "text": [
            "Enter the name of the string : Anurag Krishnan\n",
            "Counter({'n': 3, 'r': 2, 'a': 2, 'A': 1, 'u': 1, 'g': 1, ' ': 1, 'K': 1, 'i': 1, 's': 1, 'h': 1})\n"
          ]
        }
      ],
      "source": [
        "from collections import Counter \n",
        "\n",
        "string = input(\"Enter the name of the string : \")\n",
        "result = Counter(string)\n",
        "print(result)"
      ]
    },
    {
      "cell_type": "code",
      "execution_count": 8,
      "metadata": {
        "id": "BiVFb8I0Tb1v"
      },
      "outputs": [],
      "source": [
        ""
      ]
    },
    {
      "cell_type": "code",
      "execution_count": null,
      "metadata": {
        "id": "RXSiTGnfTb1v"
      },
      "outputs": [],
      "source": [
        ""
      ]
    }
  ],
  "metadata": {
    "kernelspec": {
      "display_name": "Python 3",
      "language": "python",
      "name": "python3"
    },
    "language_info": {
      "codemirror_mode": {
        "name": "ipython",
        "version": 3
      },
      "file_extension": ".py",
      "mimetype": "text/x-python",
      "name": "python",
      "nbconvert_exporter": "python",
      "pygments_lexer": "ipython3",
      "version": "3.7.6"
    },
    "colab": {
      "name": "Python_Code_Internship.ipynb",
      "provenance": [],
      "collapsed_sections": []
    }
  },
  "nbformat": 4,
  "nbformat_minor": 0
}