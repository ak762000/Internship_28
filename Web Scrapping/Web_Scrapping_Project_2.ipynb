{
 "cells": [
  {
   "cell_type": "markdown",
   "metadata": {},
   "source": [
    "Q1: Write a python program to scrape data for “Data Analyst” Job position in “Bangalore” location. You\n",
    "have to scrape the job-title, job-location, company_name, experience_required. You have to scrape first 10\n",
    "jobs data.\n",
    "This task will be done in following steps:\n",
    "1. First get the webpage https://www.naukri.com/\n",
    "2. Enter “Data Analyst” in “Skill, Designations, Companies” field and enter “Bangalore” in “enter the\n",
    "location” field.\n",
    "3. Then click the search button.\n",
    "4. Then scrape the data for the first 10 jobs results you get.\n",
    "5. Finally create a dataframe of the scraped data"
   ]
  },
  {
   "cell_type": "code",
   "execution_count": 2,
   "metadata": {},
   "outputs": [],
   "source": [
    "import selenium\n",
    "import pandas as pd\n",
    "from selenium import webdriver\n",
    "import warnings\n",
    "warnings.filterwarnings(\"ignore\")\n",
    "import time"
   ]
  },
  {
   "cell_type": "code",
   "execution_count": 177,
   "metadata": {},
   "outputs": [],
   "source": [
    "driver1 = webdriver.Chrome('chromedriver.exe')\n",
    "time.sleep(2)"
   ]
  },
  {
   "cell_type": "code",
   "execution_count": 178,
   "metadata": {},
   "outputs": [],
   "source": [
    "driver1.get('http://www.naukri.com/')"
   ]
  },
  {
   "cell_type": "code",
   "execution_count": 179,
   "metadata": {},
   "outputs": [],
   "source": [
    "search_field_designation = driver1.find_element_by_class_name(\"suggestor-input \")\n",
    "search_field_designation.send_keys('Data Analyst')"
   ]
  },
  {
   "cell_type": "code",
   "execution_count": 180,
   "metadata": {},
   "outputs": [],
   "source": [
    "search_field_location = driver1.find_element_by_xpath(\"/html/body/div/div[2]/div[3]/div/div/div[5]/div/div/div/input\")\n",
    "search_field_location.send_keys('Bangalore')"
   ]
  },
  {
   "cell_type": "code",
   "execution_count": 181,
   "metadata": {},
   "outputs": [],
   "source": [
    "search_button = driver1.find_element_by_xpath(\"/html/body/div/div[2]/div[3]/div/div/div[6]\")\n",
    "search_button.click()"
   ]
  },
  {
   "cell_type": "code",
   "execution_count": 182,
   "metadata": {},
   "outputs": [
    {
     "data": {
      "text/plain": [
       "['EY',\n",
       " 'Imaginative Brains LLP',\n",
       " 'Deutsche Bank',\n",
       " 'Deutsche Bank',\n",
       " 'Barbeque Nation',\n",
       " 'Sejal Consulting Hub',\n",
       " 'Flipkart',\n",
       " 'METRO Cash & Carry',\n",
       " 'Genpact',\n",
       " 'Leading US MNC into Analytics']"
      ]
     },
     "execution_count": 182,
     "metadata": {},
     "output_type": "execute_result"
    }
   ],
   "source": [
    "jobs_titles = []\n",
    "\n",
    "job = driver1.find_elements_by_xpath(\"//a[@class='subTitle ellipsis fleft']\")\n",
    "job\n",
    "\n",
    "for j in job:\n",
    "    jobs_titles.append(j.text)\n",
    "jobs_titles[0:10]"
   ]
  },
  {
   "cell_type": "code",
   "execution_count": 183,
   "metadata": {},
   "outputs": [
    {
     "data": {
      "text/plain": [
       "['EY GDS Data Analyst-Finland based project',\n",
       " 'Business & Data Analyst - Alteryx (London)',\n",
       " 'Data analyst / Data scientist, AVP',\n",
       " 'Data analyst / Data scientist, Associate',\n",
       " 'Senior Mis Data Analyst',\n",
       " 'Junior Data Analyst/ Scientist- Fresher Position',\n",
       " 'Senior Data Analyst',\n",
       " 'Data Analyst / Business Analyst',\n",
       " 'Genpact Hiring For Data Analyst',\n",
       " 'data analyst/ data analytics / Business analyst- SQL/Python/SAS']"
      ]
     },
     "execution_count": 183,
     "metadata": {},
     "output_type": "execute_result"
    }
   ],
   "source": [
    "job_roles = []\n",
    "\n",
    "job_r = driver1.find_elements_by_xpath(\"//a[@class = 'title fw500 ellipsis']\")\n",
    "job_r\n",
    "\n",
    "for jj in job_r:\n",
    "    job_roles.append(jj.text)\n",
    "job_roles[0:10]"
   ]
  },
  {
   "cell_type": "code",
   "execution_count": 184,
   "metadata": {},
   "outputs": [
    {
     "data": {
      "text/plain": [
       "['0-1 Yrs',\n",
       " '5-10 Yrs',\n",
       " '6-11 Yrs',\n",
       " '5-8 Yrs',\n",
       " '5-8 Yrs',\n",
       " '0-3 Yrs',\n",
       " '3-7 Yrs',\n",
       " '3-8 Yrs',\n",
       " '2-6 Yrs',\n",
       " '2-7 Yrs']"
      ]
     },
     "execution_count": 184,
     "metadata": {},
     "output_type": "execute_result"
    }
   ],
   "source": [
    "experience_list_ = []\n",
    "experience_ = driver1.find_elements_by_xpath(\"//li[@class='fleft grey-text br2 placeHolderLi experience']/span\")\n",
    "experience_\n",
    "\n",
    "for iii in experience_:\n",
    "    exp = iii.text\n",
    "    experience_list_.append(exp)\n",
    "experience_list_[0:10]"
   ]
  },
  {
   "cell_type": "code",
   "execution_count": 185,
   "metadata": {},
   "outputs": [
    {
     "data": {
      "text/plain": [
       "['Bangalore/Bengaluru',\n",
       " 'Bangalore/Bengaluru, Delhi / NCR, Mumbai (All Areas)',\n",
       " 'Bangalore/Bengaluru',\n",
       " 'Bangalore/Bengaluru',\n",
       " 'Bangalore/Bengaluru(Sarjapur), Delhi / NCR, Mumbai (All Areas)',\n",
       " 'Remote',\n",
       " 'Bangalore/Bengaluru',\n",
       " 'Bangalore/Bengaluru',\n",
       " 'Bangalore/Bengaluru',\n",
       " 'Gurgaon/Gurugram, Bangalore/Bengaluru, Delhi / NCR']"
      ]
     },
     "execution_count": 185,
     "metadata": {},
     "output_type": "execute_result"
    }
   ],
   "source": [
    "locations_list_ = []\n",
    "location_ = driver1.find_elements_by_xpath(\"//li[@class='fleft grey-text br2 placeHolderLi location']/span[1]\")\n",
    "location_[0:4]\n",
    "\n",
    "for il in location_:\n",
    "    locations_list_.append(il.text)\n",
    "locations_list_[0:10]"
   ]
  },
  {
   "cell_type": "code",
   "execution_count": 186,
   "metadata": {},
   "outputs": [
    {
     "data": {
      "text/html": [
       "<div>\n",
       "<style scoped>\n",
       "    .dataframe tbody tr th:only-of-type {\n",
       "        vertical-align: middle;\n",
       "    }\n",
       "\n",
       "    .dataframe tbody tr th {\n",
       "        vertical-align: top;\n",
       "    }\n",
       "\n",
       "    .dataframe thead th {\n",
       "        text-align: right;\n",
       "    }\n",
       "</style>\n",
       "<table border=\"1\" class=\"dataframe\">\n",
       "  <thead>\n",
       "    <tr style=\"text-align: right;\">\n",
       "      <th></th>\n",
       "      <th>JOB ROLE</th>\n",
       "      <th>JOB COMPANY</th>\n",
       "      <th>EXPERIENCE</th>\n",
       "      <th>LOCATION</th>\n",
       "    </tr>\n",
       "  </thead>\n",
       "  <tbody>\n",
       "    <tr>\n",
       "      <th>0</th>\n",
       "      <td>EY GDS Data Analyst-Finland based project</td>\n",
       "      <td>EY</td>\n",
       "      <td>0-1 Yrs</td>\n",
       "      <td>Bangalore/Bengaluru</td>\n",
       "    </tr>\n",
       "    <tr>\n",
       "      <th>1</th>\n",
       "      <td>Business &amp; Data Analyst - Alteryx (London)</td>\n",
       "      <td>Imaginative Brains LLP</td>\n",
       "      <td>5-10 Yrs</td>\n",
       "      <td>Bangalore/Bengaluru, Delhi / NCR, Mumbai (All ...</td>\n",
       "    </tr>\n",
       "    <tr>\n",
       "      <th>2</th>\n",
       "      <td>Data analyst / Data scientist, AVP</td>\n",
       "      <td>Deutsche Bank</td>\n",
       "      <td>6-11 Yrs</td>\n",
       "      <td>Bangalore/Bengaluru</td>\n",
       "    </tr>\n",
       "    <tr>\n",
       "      <th>3</th>\n",
       "      <td>Data analyst / Data scientist, Associate</td>\n",
       "      <td>Deutsche Bank</td>\n",
       "      <td>5-8 Yrs</td>\n",
       "      <td>Bangalore/Bengaluru</td>\n",
       "    </tr>\n",
       "    <tr>\n",
       "      <th>4</th>\n",
       "      <td>Senior Mis Data Analyst</td>\n",
       "      <td>Barbeque Nation</td>\n",
       "      <td>5-8 Yrs</td>\n",
       "      <td>Bangalore/Bengaluru(Sarjapur), Delhi / NCR, Mu...</td>\n",
       "    </tr>\n",
       "    <tr>\n",
       "      <th>5</th>\n",
       "      <td>Junior Data Analyst/ Scientist- Fresher Position</td>\n",
       "      <td>Sejal Consulting Hub</td>\n",
       "      <td>0-3 Yrs</td>\n",
       "      <td>Remote</td>\n",
       "    </tr>\n",
       "    <tr>\n",
       "      <th>6</th>\n",
       "      <td>Senior Data Analyst</td>\n",
       "      <td>Flipkart</td>\n",
       "      <td>3-7 Yrs</td>\n",
       "      <td>Bangalore/Bengaluru</td>\n",
       "    </tr>\n",
       "    <tr>\n",
       "      <th>7</th>\n",
       "      <td>Data Analyst / Business Analyst</td>\n",
       "      <td>METRO Cash &amp; Carry</td>\n",
       "      <td>3-8 Yrs</td>\n",
       "      <td>Bangalore/Bengaluru</td>\n",
       "    </tr>\n",
       "    <tr>\n",
       "      <th>8</th>\n",
       "      <td>Genpact Hiring For Data Analyst</td>\n",
       "      <td>Genpact</td>\n",
       "      <td>2-6 Yrs</td>\n",
       "      <td>Bangalore/Bengaluru</td>\n",
       "    </tr>\n",
       "    <tr>\n",
       "      <th>9</th>\n",
       "      <td>data analyst/ data analytics / Business analys...</td>\n",
       "      <td>Leading US MNC into Analytics</td>\n",
       "      <td>2-7 Yrs</td>\n",
       "      <td>Gurgaon/Gurugram, Bangalore/Bengaluru, Delhi /...</td>\n",
       "    </tr>\n",
       "  </tbody>\n",
       "</table>\n",
       "</div>"
      ],
      "text/plain": [
       "                                            JOB ROLE  \\\n",
       "0          EY GDS Data Analyst-Finland based project   \n",
       "1         Business & Data Analyst - Alteryx (London)   \n",
       "2                 Data analyst / Data scientist, AVP   \n",
       "3           Data analyst / Data scientist, Associate   \n",
       "4                            Senior Mis Data Analyst   \n",
       "5   Junior Data Analyst/ Scientist- Fresher Position   \n",
       "6                                Senior Data Analyst   \n",
       "7                    Data Analyst / Business Analyst   \n",
       "8                    Genpact Hiring For Data Analyst   \n",
       "9  data analyst/ data analytics / Business analys...   \n",
       "\n",
       "                     JOB COMPANY EXPERIENCE  \\\n",
       "0                             EY    0-1 Yrs   \n",
       "1         Imaginative Brains LLP   5-10 Yrs   \n",
       "2                  Deutsche Bank   6-11 Yrs   \n",
       "3                  Deutsche Bank    5-8 Yrs   \n",
       "4                Barbeque Nation    5-8 Yrs   \n",
       "5           Sejal Consulting Hub    0-3 Yrs   \n",
       "6                       Flipkart    3-7 Yrs   \n",
       "7             METRO Cash & Carry    3-8 Yrs   \n",
       "8                        Genpact    2-6 Yrs   \n",
       "9  Leading US MNC into Analytics    2-7 Yrs   \n",
       "\n",
       "                                            LOCATION  \n",
       "0                                Bangalore/Bengaluru  \n",
       "1  Bangalore/Bengaluru, Delhi / NCR, Mumbai (All ...  \n",
       "2                                Bangalore/Bengaluru  \n",
       "3                                Bangalore/Bengaluru  \n",
       "4  Bangalore/Bengaluru(Sarjapur), Delhi / NCR, Mu...  \n",
       "5                                             Remote  \n",
       "6                                Bangalore/Bengaluru  \n",
       "7                                Bangalore/Bengaluru  \n",
       "8                                Bangalore/Bengaluru  \n",
       "9  Gurgaon/Gurugram, Bangalore/Bengaluru, Delhi /...  "
      ]
     },
     "execution_count": 186,
     "metadata": {},
     "output_type": "execute_result"
    }
   ],
   "source": [
    "df_jobs = pd.DataFrame({\n",
    "    'JOB ROLE' : job_roles,\n",
    "    'JOB COMPANY' : jobs_titles,\n",
    "    'EXPERIENCE' : experience_list_,\n",
    "    'LOCATION' : locations_list_\n",
    "})\n",
    "\n",
    "df_jobs[0:10]"
   ]
  },
  {
   "cell_type": "markdown",
   "metadata": {},
   "source": [
    "Q2: Write a python program to scrape data for “Data Scientist” Job position in “Bangalore” location. You\n",
    "have to scrape the job-title, job-location, company_name. You have to scrape first 10 jobs data.\n",
    "This task will be done in following steps:\n",
    "1. First get the webpage https://www.naukri.com/\n",
    "2. Enter “Data Scientist” in “Skill, Designations, Companies” field and enter “Bangalore” in “enter the\n",
    "location” field.\n",
    "3. Then click the search button.\n",
    "4. Then scrape the data for the first 10 jobs results you get.\n",
    "5. Finally create a dataframe of the scraped data.\n"
   ]
  },
  {
   "cell_type": "code",
   "execution_count": 187,
   "metadata": {},
   "outputs": [],
   "source": [
    "driver2 = webdriver.Chrome('chromedriver.exe')\n",
    "time.sleep(2)\n",
    "\n",
    "driver2.get('http://www.naukri.com/')"
   ]
  },
  {
   "cell_type": "code",
   "execution_count": 188,
   "metadata": {},
   "outputs": [],
   "source": [
    "search_field_designation1 = driver2.find_element_by_class_name(\"suggestor-input \")\n",
    "search_field_designation1.send_keys('Data Scientist')"
   ]
  },
  {
   "cell_type": "code",
   "execution_count": 189,
   "metadata": {},
   "outputs": [],
   "source": [
    "search_field_location1 = driver2.find_element_by_xpath(\"/html/body/div/div[2]/div[3]/div/div/div[5]/div/div/div/input\")\n",
    "search_field_location1.send_keys('Bangalore')"
   ]
  },
  {
   "cell_type": "code",
   "execution_count": 190,
   "metadata": {},
   "outputs": [],
   "source": [
    "search_button1 = driver2.find_element_by_xpath(\"/html/body/div/div[2]/div[3]/div/div/div[6]\")\n",
    "search_button1.click()"
   ]
  },
  {
   "cell_type": "code",
   "execution_count": 191,
   "metadata": {},
   "outputs": [],
   "source": [
    "job_titles_ = []\n",
    "company_names = []\n",
    "locations_list = []\n",
    "experience_list = []"
   ]
  },
  {
   "cell_type": "code",
   "execution_count": 192,
   "metadata": {},
   "outputs": [
    {
     "data": {
      "text/plain": [
       "['AI Technologist Vacancy',\n",
       " 'Job Opening with Wipro For Data Scientist position',\n",
       " 'Data Scientist',\n",
       " 'Data Scientist',\n",
       " 'Data Scientist - Immediate Joiners',\n",
       " 'Data Scientist- AI/ML- R&D',\n",
       " 'Urgent Hiring For AI Data Scientist',\n",
       " 'Data Scientist',\n",
       " 'Data Scientist',\n",
       " 'Data Scientist',\n",
       " 'Data Science Expert - Quality & Test Engineering',\n",
       " 'Applied Data Scientist / ML Senior Engineer (Python / SQL)',\n",
       " 'Research Engineer: Deep Learning & Collective Intelligence',\n",
       " 'Team Lead/Consultant-Data Science',\n",
       " 'Team Lead/Consultant-Data Science',\n",
       " 'Data Science Associate Manager',\n",
       " 'Research Scientist',\n",
       " 'Data Science - Lead Data Scientist',\n",
       " 'Data Scientist',\n",
       " 'Data Scientist']"
      ]
     },
     "execution_count": 192,
     "metadata": {},
     "output_type": "execute_result"
    }
   ],
   "source": [
    "job1 = driver2.find_elements_by_xpath(\"//a[@class = 'title fw500 ellipsis']\")\n",
    "job1[0:4]\n",
    "\n",
    "for i in job1:\n",
    "    title = i.text\n",
    "    job_titles_.append(title)\n",
    "job_titles_"
   ]
  },
  {
   "cell_type": "code",
   "execution_count": 193,
   "metadata": {},
   "outputs": [
    {
     "data": {
      "text/plain": [
       "['Wipro',\n",
       " 'Wipro',\n",
       " 'Genpact',\n",
       " 'Genpact',\n",
       " 'Bristlecone',\n",
       " 'EXL',\n",
       " 'Ashkom Media India Private Limited',\n",
       " 'UPL',\n",
       " 'UPL',\n",
       " 'Jacobs',\n",
       " 'SAP',\n",
       " 'SAP',\n",
       " 'Siemens',\n",
       " 'Accenture',\n",
       " 'Accenture',\n",
       " 'Accenture',\n",
       " 'IBM',\n",
       " 'Paytm',\n",
       " 'IBM',\n",
       " 'IBM']"
      ]
     },
     "execution_count": 193,
     "metadata": {},
     "output_type": "execute_result"
    }
   ],
   "source": [
    "company = driver2.find_elements_by_xpath(\"//a[@class='subTitle ellipsis fleft']\")\n",
    "company[0:2]\n",
    "\n",
    "for i in company:\n",
    "    company_names.append(i.text)\n",
    "company_names"
   ]
  },
  {
   "cell_type": "code",
   "execution_count": 194,
   "metadata": {},
   "outputs": [
    {
     "data": {
      "text/plain": [
       "['6-11 Yrs',\n",
       " '2-7 Yrs',\n",
       " '7-12 Yrs',\n",
       " '5-8 Yrs',\n",
       " '5-8 Yrs',\n",
       " '2-6 Yrs',\n",
       " '1-4 Yrs',\n",
       " '2-7 Yrs',\n",
       " '1-4 Yrs',\n",
       " '3-5 Yrs',\n",
       " '12-16 Yrs',\n",
       " '5-10 Yrs',\n",
       " '1-5 Yrs',\n",
       " '7-11 Yrs',\n",
       " '7-11 Yrs',\n",
       " '5-10 Yrs',\n",
       " '3-7 Yrs',\n",
       " '3-5 Yrs',\n",
       " '7-9 Yrs',\n",
       " '4-6 Yrs']"
      ]
     },
     "execution_count": 194,
     "metadata": {},
     "output_type": "execute_result"
    }
   ],
   "source": [
    "experience = driver2.find_elements_by_xpath(\"//li[@class='fleft grey-text br2 placeHolderLi experience']/span\")\n",
    "experience\n",
    "\n",
    "for ii in experience:\n",
    "    exp = ii.text\n",
    "    experience_list.append(exp)\n",
    "experience_list"
   ]
  },
  {
   "cell_type": "code",
   "execution_count": 195,
   "metadata": {},
   "outputs": [
    {
     "data": {
      "text/plain": [
       "['Kolkata, Hyderabad/Secunderabad, Pune, Ahmedabad, Chennai, Bangalore/Bengaluru, Delhi / NCR, Mumbai (All Areas)',\n",
       " 'Kolkata, Hyderabad/Secunderabad, Chennai, Bangalore/Bengaluru, Delhi / NCR, Mumbai (All Areas)',\n",
       " 'Bangalore/Bengaluru',\n",
       " 'Hyderabad/Secunderabad, Bangalore/Bengaluru, Delhi / NCR',\n",
       " 'Noida, Mumbai, Pune, Bangalore/Bengaluru',\n",
       " 'Noida, Hyderabad/Secunderabad, Pune, Gurgaon/Gurugram, Chennai, Bangalore/Bengaluru, Delhi / NCR',\n",
       " 'New Delhi, Bangalore/Bengaluru, Mumbai (All Areas)',\n",
       " 'Mumbai, Bangalore/Bengaluru',\n",
       " 'Bangalore/Bengaluru, Mumbai (All Areas)',\n",
       " 'Bangalore/Bengaluru, Delhi / NCR, Mumbai (All Areas)',\n",
       " 'Bangalore/Bengaluru',\n",
       " 'Bangalore/Bengaluru',\n",
       " 'Bangalore/Bengaluru',\n",
       " 'Bangalore/Bengaluru',\n",
       " 'Bangalore/Bengaluru',\n",
       " 'Bangalore/Bengaluru',\n",
       " 'Bangalore/Bengaluru',\n",
       " 'Noida, Bangalore/Bengaluru',\n",
       " 'Bengaluru/Bangalore',\n",
       " 'Bengaluru/Bangalore']"
      ]
     },
     "execution_count": 195,
     "metadata": {},
     "output_type": "execute_result"
    }
   ],
   "source": [
    "location = driver2.find_elements_by_xpath(\"//li[@class='fleft grey-text br2 placeHolderLi location']/span[1]\")\n",
    "location[0:4]\n",
    "\n",
    "for i in location:\n",
    "    locations_list.append(i.text)\n",
    "locations_list"
   ]
  },
  {
   "cell_type": "code",
   "execution_count": 196,
   "metadata": {},
   "outputs": [
    {
     "data": {
      "text/html": [
       "<div>\n",
       "<style scoped>\n",
       "    .dataframe tbody tr th:only-of-type {\n",
       "        vertical-align: middle;\n",
       "    }\n",
       "\n",
       "    .dataframe tbody tr th {\n",
       "        vertical-align: top;\n",
       "    }\n",
       "\n",
       "    .dataframe thead th {\n",
       "        text-align: right;\n",
       "    }\n",
       "</style>\n",
       "<table border=\"1\" class=\"dataframe\">\n",
       "  <thead>\n",
       "    <tr style=\"text-align: right;\">\n",
       "      <th></th>\n",
       "      <th>job_titles</th>\n",
       "      <th>company_names</th>\n",
       "      <th>experience</th>\n",
       "      <th>location</th>\n",
       "    </tr>\n",
       "  </thead>\n",
       "  <tbody>\n",
       "    <tr>\n",
       "      <th>0</th>\n",
       "      <td>AI Technologist Vacancy</td>\n",
       "      <td>Wipro</td>\n",
       "      <td>6-11 Yrs</td>\n",
       "      <td>Kolkata, Hyderabad/Secunderabad, Pune, Ahmedab...</td>\n",
       "    </tr>\n",
       "    <tr>\n",
       "      <th>1</th>\n",
       "      <td>Job Opening with Wipro For Data Scientist posi...</td>\n",
       "      <td>Wipro</td>\n",
       "      <td>2-7 Yrs</td>\n",
       "      <td>Kolkata, Hyderabad/Secunderabad, Chennai, Bang...</td>\n",
       "    </tr>\n",
       "    <tr>\n",
       "      <th>2</th>\n",
       "      <td>Data Scientist</td>\n",
       "      <td>Genpact</td>\n",
       "      <td>7-12 Yrs</td>\n",
       "      <td>Bangalore/Bengaluru</td>\n",
       "    </tr>\n",
       "    <tr>\n",
       "      <th>3</th>\n",
       "      <td>Data Scientist</td>\n",
       "      <td>Genpact</td>\n",
       "      <td>5-8 Yrs</td>\n",
       "      <td>Hyderabad/Secunderabad, Bangalore/Bengaluru, D...</td>\n",
       "    </tr>\n",
       "    <tr>\n",
       "      <th>4</th>\n",
       "      <td>Data Scientist - Immediate Joiners</td>\n",
       "      <td>Bristlecone</td>\n",
       "      <td>5-8 Yrs</td>\n",
       "      <td>Noida, Mumbai, Pune, Bangalore/Bengaluru</td>\n",
       "    </tr>\n",
       "    <tr>\n",
       "      <th>5</th>\n",
       "      <td>Data Scientist- AI/ML- R&amp;D</td>\n",
       "      <td>EXL</td>\n",
       "      <td>2-6 Yrs</td>\n",
       "      <td>Noida, Hyderabad/Secunderabad, Pune, Gurgaon/G...</td>\n",
       "    </tr>\n",
       "    <tr>\n",
       "      <th>6</th>\n",
       "      <td>Urgent Hiring For AI Data Scientist</td>\n",
       "      <td>Ashkom Media India Private Limited</td>\n",
       "      <td>1-4 Yrs</td>\n",
       "      <td>New Delhi, Bangalore/Bengaluru, Mumbai (All Ar...</td>\n",
       "    </tr>\n",
       "    <tr>\n",
       "      <th>7</th>\n",
       "      <td>Data Scientist</td>\n",
       "      <td>UPL</td>\n",
       "      <td>2-7 Yrs</td>\n",
       "      <td>Mumbai, Bangalore/Bengaluru</td>\n",
       "    </tr>\n",
       "    <tr>\n",
       "      <th>8</th>\n",
       "      <td>Data Scientist</td>\n",
       "      <td>UPL</td>\n",
       "      <td>1-4 Yrs</td>\n",
       "      <td>Bangalore/Bengaluru, Mumbai (All Areas)</td>\n",
       "    </tr>\n",
       "    <tr>\n",
       "      <th>9</th>\n",
       "      <td>Data Scientist</td>\n",
       "      <td>Jacobs</td>\n",
       "      <td>3-5 Yrs</td>\n",
       "      <td>Bangalore/Bengaluru, Delhi / NCR, Mumbai (All ...</td>\n",
       "    </tr>\n",
       "  </tbody>\n",
       "</table>\n",
       "</div>"
      ],
      "text/plain": [
       "                                          job_titles  \\\n",
       "0                            AI Technologist Vacancy   \n",
       "1  Job Opening with Wipro For Data Scientist posi...   \n",
       "2                                     Data Scientist   \n",
       "3                                     Data Scientist   \n",
       "4                 Data Scientist - Immediate Joiners   \n",
       "5                         Data Scientist- AI/ML- R&D   \n",
       "6                Urgent Hiring For AI Data Scientist   \n",
       "7                                     Data Scientist   \n",
       "8                                     Data Scientist   \n",
       "9                                     Data Scientist   \n",
       "\n",
       "                        company_names experience  \\\n",
       "0                               Wipro   6-11 Yrs   \n",
       "1                               Wipro    2-7 Yrs   \n",
       "2                             Genpact   7-12 Yrs   \n",
       "3                             Genpact    5-8 Yrs   \n",
       "4                         Bristlecone    5-8 Yrs   \n",
       "5                                 EXL    2-6 Yrs   \n",
       "6  Ashkom Media India Private Limited    1-4 Yrs   \n",
       "7                                 UPL    2-7 Yrs   \n",
       "8                                 UPL    1-4 Yrs   \n",
       "9                              Jacobs    3-5 Yrs   \n",
       "\n",
       "                                            location  \n",
       "0  Kolkata, Hyderabad/Secunderabad, Pune, Ahmedab...  \n",
       "1  Kolkata, Hyderabad/Secunderabad, Chennai, Bang...  \n",
       "2                                Bangalore/Bengaluru  \n",
       "3  Hyderabad/Secunderabad, Bangalore/Bengaluru, D...  \n",
       "4           Noida, Mumbai, Pune, Bangalore/Bengaluru  \n",
       "5  Noida, Hyderabad/Secunderabad, Pune, Gurgaon/G...  \n",
       "6  New Delhi, Bangalore/Bengaluru, Mumbai (All Ar...  \n",
       "7                        Mumbai, Bangalore/Bengaluru  \n",
       "8            Bangalore/Bengaluru, Mumbai (All Areas)  \n",
       "9  Bangalore/Bengaluru, Delhi / NCR, Mumbai (All ...  "
      ]
     },
     "execution_count": 196,
     "metadata": {},
     "output_type": "execute_result"
    }
   ],
   "source": [
    "df_job_Scientist = pd.DataFrame({\n",
    "    'job_titles' : job_titles_,\n",
    "    'company_names' : company_names,\n",
    "    'experience' : experience_list,\n",
    "    'location' : locations_list,\n",
    "})\n",
    "\n",
    "df_job_Scientist[0:10]"
   ]
  },
  {
   "cell_type": "markdown",
   "metadata": {},
   "source": [
    "Q3: In this question you have to scrape data using the filters available on the webpage as shown below:\n",
    "You have to use the location and salary filter.\n",
    "You have to scrape data for “Data Scientist” designation for first 10 job results.\n",
    "You have to scrape the job-title, job-location, company name, experience required.\n",
    "The location filter to be used is “Delhi/NCR”. The salary filter to be used is “3-6” lakhs\n",
    "The task will be done as shown in the below steps:\n",
    "1. first get the webpage https://www.naukri.com/\n",
    "2. Enter “Data Scientist” in “Skill, Designations, and Companies” field.\n",
    "3. Then click the search button.\n",
    "4. Then apply the location filter and salary filter by checking the respective boxes\n",
    "5. Then scrape the data for the first 10 jobs results you get.\n",
    "6. Finally create a dataframe of the scraped data.\n",
    "\n",
    "Note: All of the above steps have to be done in code. No step is to be done manually."
   ]
  },
  {
   "cell_type": "code",
   "execution_count": 36,
   "metadata": {},
   "outputs": [],
   "source": [
    "driver3 = webdriver.Chrome('chromedriver.exe')\n",
    "time.sleep(2)\n",
    "\n",
    "driver3.get('http://www.naukri.com/')"
   ]
  },
  {
   "cell_type": "code",
   "execution_count": 37,
   "metadata": {},
   "outputs": [],
   "source": [
    "search_field_designation3 = driver3.find_element_by_class_name(\"suggestor-input \")\n",
    "search_field_designation3.send_keys('Data Scientist')"
   ]
  },
  {
   "cell_type": "code",
   "execution_count": 38,
   "metadata": {},
   "outputs": [],
   "source": [
    "search_button3 = driver3.find_element_by_xpath(\"/html/body/div/div[2]/div[3]/div/div/div[6]\")\n",
    "search_button3.click()"
   ]
  },
  {
   "cell_type": "code",
   "execution_count": 39,
   "metadata": {},
   "outputs": [],
   "source": [
    "Filter1 = driver3.find_element_by_xpath(\"//label[@for='chk-Delhi / NCR-cityTypeGid-']/i\")\n",
    "Filter1.click()"
   ]
  },
  {
   "cell_type": "code",
   "execution_count": 40,
   "metadata": {},
   "outputs": [],
   "source": [
    "Filter2 = driver3.find_element_by_xpath(\"//label[@for='chk-3-6 Lakhs-ctcFilter-']/i\")\n",
    "Filter2.click()"
   ]
  },
  {
   "cell_type": "code",
   "execution_count": 41,
   "metadata": {},
   "outputs": [],
   "source": [
    "job_title_ = []#title of job\n",
    "company_name_ = []#title of Company\n",
    "exp_= []#Experience req\n",
    "salary_ = []# Salary offered\n",
    "date_ = []# Date of post\n",
    "loc_ = []#Location of the job"
   ]
  },
  {
   "cell_type": "code",
   "execution_count": 42,
   "metadata": {},
   "outputs": [],
   "source": [
    "for i in driver3.find_elements_by_xpath(\"//a[@class='title fw500 ellipsis']\")[:10]:\n",
    "    job_title_.append(i.text)\n",
    "\n",
    "for i in driver3.find_elements_by_xpath(\"//a[@class='subTitle ellipsis fleft']\")[:10]:\n",
    "    company_name_.append(i.text)\n",
    "    \n",
    "for i in driver3.find_elements_by_xpath(\"//li[@class='fleft grey-text br2 placeHolderLi experience']\")[:10]:\n",
    "    exp_.append(i.text)\n",
    "\n",
    "for i in driver3.find_elements_by_xpath(\"//li[@class='fleft grey-text br2 placeHolderLi location']\")[:10]:\n",
    "    loc_.append(i.text)        \n",
    "        \n",
    "for i in driver3.find_elements_by_xpath(\"//li[@class='fleft grey-text br2 placeHolderLi salary']\")[:10]:\n",
    "    salary_.append(i.text)\n",
    "\n",
    "for i in driver3.find_elements_by_xpath(\"//span[@class='fleft fw500']\")[:10]:\n",
    "    date_.append(i.text) "
   ]
  },
  {
   "cell_type": "code",
   "execution_count": 43,
   "metadata": {},
   "outputs": [],
   "source": [
    "DataScientist_JOBDelhi= pd.DataFrame({ \"EXEPERIENCE_REQ\": exp_, \"JOB_TITLE\" : job_title_ ,\"COMPANY_NAME\": company_name_ , \n",
    "                                           \"LOCATION\" : loc_,\n",
    "                                           \"SALARY\" : salary_,\n",
    "                                          \"POST_DATE\" : date_})"
   ]
  },
  {
   "cell_type": "code",
   "execution_count": 45,
   "metadata": {},
   "outputs": [
    {
     "data": {
      "text/html": [
       "<div>\n",
       "<style scoped>\n",
       "    .dataframe tbody tr th:only-of-type {\n",
       "        vertical-align: middle;\n",
       "    }\n",
       "\n",
       "    .dataframe tbody tr th {\n",
       "        vertical-align: top;\n",
       "    }\n",
       "\n",
       "    .dataframe thead th {\n",
       "        text-align: right;\n",
       "    }\n",
       "</style>\n",
       "<table border=\"1\" class=\"dataframe\">\n",
       "  <thead>\n",
       "    <tr style=\"text-align: right;\">\n",
       "      <th></th>\n",
       "      <th>EXEPERIENCE_REQ</th>\n",
       "      <th>JOB_TITLE</th>\n",
       "      <th>COMPANY_NAME</th>\n",
       "      <th>LOCATION</th>\n",
       "      <th>SALARY</th>\n",
       "      <th>POST_DATE</th>\n",
       "    </tr>\n",
       "  </thead>\n",
       "  <tbody>\n",
       "    <tr>\n",
       "      <th>0</th>\n",
       "      <td>2-7 Yrs</td>\n",
       "      <td>Job Opening with Wipro For Data Scientist posi...</td>\n",
       "      <td>Wipro</td>\n",
       "      <td>Kolkata, Hyderabad/Secunderabad, Chennai, Bang...</td>\n",
       "      <td>4,00,000 - 6,00,000 PA.</td>\n",
       "      <td>25 DAYS AGO</td>\n",
       "    </tr>\n",
       "    <tr>\n",
       "      <th>1</th>\n",
       "      <td>2-5 Yrs</td>\n",
       "      <td>Data Scientist</td>\n",
       "      <td>SS Supply Chain Solutions Pvt. Ltd. (3SC)</td>\n",
       "      <td>Pune, Gurgaon/Gurugram, Bangalore/Bengaluru</td>\n",
       "      <td>Not disclosed</td>\n",
       "      <td>7 DAYS AGO</td>\n",
       "    </tr>\n",
       "    <tr>\n",
       "      <th>2</th>\n",
       "      <td>1-4 Yrs</td>\n",
       "      <td>Data Scientist -Machine Learning with Python</td>\n",
       "      <td>Genpact</td>\n",
       "      <td>Noida, New Delhi, Gurgaon/Gurugram, Delhi / NC...</td>\n",
       "      <td>Not disclosed</td>\n",
       "      <td>10 DAYS AGO</td>\n",
       "    </tr>\n",
       "    <tr>\n",
       "      <th>3</th>\n",
       "      <td>1-6 Yrs</td>\n",
       "      <td>Data Scientist - Predictive Analytics</td>\n",
       "      <td>Confidential</td>\n",
       "      <td>Noida, Mumbai, Chandigarh, Hyderabad/Secundera...</td>\n",
       "      <td>Not disclosed</td>\n",
       "      <td>5 DAYS AGO</td>\n",
       "    </tr>\n",
       "    <tr>\n",
       "      <th>4</th>\n",
       "      <td>3-8 Yrs</td>\n",
       "      <td>Data Scientist - Machine learning AI</td>\n",
       "      <td>Teq Analytics</td>\n",
       "      <td>Bangalore/Bengaluru, Delhi / NCR, Mumbai (All ...</td>\n",
       "      <td>Not disclosed</td>\n",
       "      <td>27 DAYS AGO</td>\n",
       "    </tr>\n",
       "  </tbody>\n",
       "</table>\n",
       "</div>"
      ],
      "text/plain": [
       "  EXEPERIENCE_REQ                                          JOB_TITLE  \\\n",
       "0         2-7 Yrs  Job Opening with Wipro For Data Scientist posi...   \n",
       "1         2-5 Yrs                                     Data Scientist   \n",
       "2         1-4 Yrs       Data Scientist -Machine Learning with Python   \n",
       "3         1-6 Yrs              Data Scientist - Predictive Analytics   \n",
       "4         3-8 Yrs               Data Scientist - Machine learning AI   \n",
       "\n",
       "                                COMPANY_NAME  \\\n",
       "0                                      Wipro   \n",
       "1  SS Supply Chain Solutions Pvt. Ltd. (3SC)   \n",
       "2                                    Genpact   \n",
       "3                               Confidential   \n",
       "4                              Teq Analytics   \n",
       "\n",
       "                                            LOCATION                   SALARY  \\\n",
       "0  Kolkata, Hyderabad/Secunderabad, Chennai, Bang...  4,00,000 - 6,00,000 PA.   \n",
       "1        Pune, Gurgaon/Gurugram, Bangalore/Bengaluru            Not disclosed   \n",
       "2  Noida, New Delhi, Gurgaon/Gurugram, Delhi / NC...            Not disclosed   \n",
       "3  Noida, Mumbai, Chandigarh, Hyderabad/Secundera...            Not disclosed   \n",
       "4  Bangalore/Bengaluru, Delhi / NCR, Mumbai (All ...            Not disclosed   \n",
       "\n",
       "     POST_DATE  \n",
       "0  25 DAYS AGO  \n",
       "1   7 DAYS AGO  \n",
       "2  10 DAYS AGO  \n",
       "3   5 DAYS AGO  \n",
       "4  27 DAYS AGO  "
      ]
     },
     "execution_count": 45,
     "metadata": {},
     "output_type": "execute_result"
    }
   ],
   "source": [
    "DataScientist_JOBDelhi.head()"
   ]
  },
  {
   "cell_type": "markdown",
   "metadata": {},
   "source": [
    "Q4: Scrape data of first 100 sunglasses listings on flipkart.com. You have to scrape four attributes:\n",
    "1. Brand\n",
    "2. Product Description\n",
    "3. Price\n",
    "The attributes which you have to scrape is ticked marked in the below image.\n",
    "To scrape the data you have to go through following steps:\n",
    "1. Go to Flipkart webpage by url : https://www.flipkart.com/\n",
    "2. Enter “sunglasses” in the search field where “search for products, brands and more” is written and\n",
    "click the search icon\n",
    "3. After that you will reach to the page having a lot of sunglasses. From this page you can scrap the\n",
    "required data as usual.\n",
    "4. After scraping data from the first page, go to the “Next” Button at the bottom other page , then\n",
    "click on it.\n",
    "5. Now scrape data from this page as usual\n",
    "6. Repeat this until you get data for 100 sunglasses.\n",
    "Note: That all of the above steps have to be done by coding only and not manually."
   ]
  },
  {
   "cell_type": "code",
   "execution_count": 48,
   "metadata": {},
   "outputs": [],
   "source": [
    "driver4 = webdriver.Chrome('chromedriver.exe')\n",
    "time.sleep(2)\n",
    "\n",
    "driver4.get('https://www.flipkart.com/')"
   ]
  },
  {
   "cell_type": "code",
   "execution_count": 50,
   "metadata": {},
   "outputs": [],
   "source": [
    "prod_ser = driver4.find_element_by_xpath(\"//div[@class='_3OO5Xc']//input[@type = 'text']\")\n",
    "prod_ser.send_keys(\"sunglasses\")"
   ]
  },
  {
   "cell_type": "code",
   "execution_count": 51,
   "metadata": {},
   "outputs": [],
   "source": [
    "sub_button = driver4.find_element_by_xpath(\"//div[@class = 'col-12-12 _2oO9oE']//button[@class = 'L0Z3Pu']\")\n",
    "sub_button.click()"
   ]
  },
  {
   "cell_type": "code",
   "execution_count": null,
   "metadata": {},
   "outputs": [],
   "source": [
    "#Page 1 for flipkart.com I have scraped 40 data."
   ]
  },
  {
   "cell_type": "code",
   "execution_count": 64,
   "metadata": {},
   "outputs": [
    {
     "data": {
      "text/plain": [
       "['SRPM',\n",
       " 'Fastrack',\n",
       " 'ROZZETTA CRAFT',\n",
       " 'CRYSTAL CART',\n",
       " 'ROYAL SON',\n",
       " 'New Specs',\n",
       " 'Elligator',\n",
       " 'Singco India',\n",
       " 'AISLIN',\n",
       " 'Lee Topper',\n",
       " 'AISLIN',\n",
       " 'VINCENT CHASE',\n",
       " 'GANSTA',\n",
       " 'VINCENT CHASE',\n",
       " 'GANSTA',\n",
       " 'ROZZETTA CRAFT',\n",
       " 'Fastrack',\n",
       " 'IZAAN MART',\n",
       " 'kingsunglasses',\n",
       " 'CRYSTAL CART',\n",
       " 'PHENOMENAL',\n",
       " 'ROZZETTA CRAFT',\n",
       " 'Singco India',\n",
       " 'CRYSTAL CART',\n",
       " 'VINCENT CHASE',\n",
       " 'kingsunglasses',\n",
       " 'ROYAL SON',\n",
       " 'Rich Club',\n",
       " 'Roadster',\n",
       " 'kingsunglasses',\n",
       " 'VINCENT CHASE',\n",
       " 'VINCENT CHASE',\n",
       " 'kingsunglasses',\n",
       " 'Silver Kartz',\n",
       " 'kingsunglasses',\n",
       " 'VINCENT CHASE',\n",
       " 'WROGN',\n",
       " 'ROZZETTA CRAFT',\n",
       " 'ROZZETTA CRAFT',\n",
       " 'VINCENT CHASE']"
      ]
     },
     "execution_count": 64,
     "metadata": {},
     "output_type": "execute_result"
    }
   ],
   "source": [
    "Brand = []\n",
    "\n",
    "for i in driver4.find_elements_by_xpath(\"//div[@class='_2WkVRV']\"):\n",
    "    Brand.append(i.text)\n",
    "Brand"
   ]
  },
  {
   "cell_type": "code",
   "execution_count": 69,
   "metadata": {},
   "outputs": [
    {
     "data": {
      "text/plain": [
       "['Night Vision, UV Protection Round Sunglasses (54)',\n",
       " 'Gradient, UV Protection Wayfarer Sunglasses (Free Size)',\n",
       " 'UV Protection, Gradient Round Sunglasses (Free Size)',\n",
       " 'Polarized, UV Protection, Gradient, Riding Glasses Rect...',\n",
       " 'Mirrored Aviator Sunglasses (Free Size)',\n",
       " 'UV Protection Round Sunglasses (Free Size)',\n",
       " 'UV Protection Round Sunglasses (53)',\n",
       " 'Gradient, Toughened Glass Lens, UV Protection Retro Squ...',\n",
       " 'UV Protection, Gradient Retro Square Sunglasses (58)',\n",
       " 'UV Protection Rectangular Sunglasses (Free Size)',\n",
       " 'Toughened Glass Lens, UV Protection Wayfarer, Rectangul...',\n",
       " 'UV Protection Rectangular Sunglasses (52)',\n",
       " 'UV Protection Aviator Sunglasses (57)',\n",
       " 'by Lenskart Polarized, UV Protection Round Sunglasses (...',\n",
       " 'UV Protection, Riding Glasses Wayfarer Sunglasses (53)',\n",
       " 'UV Protection, Gradient Retro Square Sunglasses (Free S...',\n",
       " 'UV Protection Aviator Sunglasses (58)',\n",
       " 'UV Protection Rectangular Sunglasses (55)',\n",
       " 'UV Protection, Mirrored Aviator Sunglasses (Free Size)',\n",
       " 'Polarized, UV Protection, Mirrored, Gradient Rectangula...',\n",
       " 'UV Protection Retro Square Sunglasses (Free Size)',\n",
       " 'UV Protection Retro Square Sunglasses (Free Size)',\n",
       " 'Gradient, Toughened Glass Lens, UV Protection Retro Squ...',\n",
       " 'Polarized, UV Protection Retro Square Sunglasses (Free ...',\n",
       " 'by Lenskart UV Protection Aviator Sunglasses (Free Size...',\n",
       " 'UV Protection Rectangular Sunglasses (55)',\n",
       " 'Mirrored Aviator Sunglasses (55)',\n",
       " 'UV Protection, Mirrored, Gradient Round Sunglasses (51)',\n",
       " 'Others Aviator Sunglasses (Free Size)',\n",
       " 'Mirrored, UV Protection Wayfarer Sunglasses (Free Size)',\n",
       " 'by Lenskart Polarized, UV Protection Aviator Sunglasses...',\n",
       " 'UV Protection Retro Square Sunglasses (50)',\n",
       " 'UV Protection Round Sunglasses (Free Size)',\n",
       " 'UV Protection Wayfarer Sunglasses (Free Size)',\n",
       " 'UV Protection Round Sunglasses (54)',\n",
       " 'UV Protection Rectangular Sunglasses (52)',\n",
       " 'Polarized Aviator Sunglasses (44)',\n",
       " 'UV Protection, Gradient Rectangular Sunglasses (Free Si...',\n",
       " 'UV Protection, Gradient Rectangular Sunglasses (Free Si...',\n",
       " 'UV Protection Retro Square Sunglasses (51)']"
      ]
     },
     "execution_count": 69,
     "metadata": {},
     "output_type": "execute_result"
    }
   ],
   "source": [
    "Product_Description = []\n",
    "for i in driver4.find_elements_by_xpath(\"//a[@class='IRpwTa']\"):\n",
    "    Product_Description.append(i.text)\n",
    "Product_Description"
   ]
  },
  {
   "cell_type": "code",
   "execution_count": 71,
   "metadata": {},
   "outputs": [
    {
     "data": {
      "text/plain": [
       "['₹207',\n",
       " '₹599',\n",
       " '₹359',\n",
       " '₹319',\n",
       " '₹359',\n",
       " '₹265',\n",
       " '₹195',\n",
       " '₹630',\n",
       " '₹387',\n",
       " '₹206',\n",
       " '₹681',\n",
       " '₹616',\n",
       " '₹279',\n",
       " '₹719',\n",
       " '₹207',\n",
       " '₹314',\n",
       " '₹1,025',\n",
       " '₹330',\n",
       " '₹269',\n",
       " '₹550',\n",
       " '₹341',\n",
       " '₹449',\n",
       " '₹630',\n",
       " '₹303',\n",
       " '₹720',\n",
       " '₹189',\n",
       " '₹359',\n",
       " '₹225',\n",
       " '₹449',\n",
       " '₹269',\n",
       " '₹683',\n",
       " '₹639',\n",
       " '₹329',\n",
       " '₹288',\n",
       " '₹214',\n",
       " '₹616',\n",
       " '₹449',\n",
       " '₹404',\n",
       " '₹359',\n",
       " '₹616']"
      ]
     },
     "execution_count": 71,
     "metadata": {},
     "output_type": "execute_result"
    }
   ],
   "source": [
    "Price = []\n",
    "for i in driver4.find_elements_by_xpath(\"//div[@class='_30jeq3']\"):\n",
    "    Price.append(i.text)\n",
    "Price"
   ]
  },
  {
   "cell_type": "code",
   "execution_count": 73,
   "metadata": {},
   "outputs": [
    {
     "data": {
      "text/plain": [
       "['79% off',\n",
       " '25% off',\n",
       " '82% off',\n",
       " '78% off',\n",
       " '76% off',\n",
       " '79% off',\n",
       " '80% off',\n",
       " '78% off',\n",
       " '74% off',\n",
       " '79% off',\n",
       " '81% off',\n",
       " '69% off',\n",
       " '86% off',\n",
       " '64% off',\n",
       " '88% off',\n",
       " '84% off',\n",
       " '21% off',\n",
       " '83% off',\n",
       " '85% off',\n",
       " '73% off',\n",
       " '82% off',\n",
       " '80% off',\n",
       " '80% off',\n",
       " '76% off',\n",
       " '63% off',\n",
       " '85% off',\n",
       " '76% off',\n",
       " '71% off',\n",
       " '55% off',\n",
       " '82% off',\n",
       " '65% off',\n",
       " '68% off',\n",
       " '79% off',\n",
       " '80% off',\n",
       " '78% off',\n",
       " '69% off',\n",
       " '86% off',\n",
       " '79% off',\n",
       " '82% off',\n",
       " '69% off']"
      ]
     },
     "execution_count": 73,
     "metadata": {},
     "output_type": "execute_result"
    }
   ],
   "source": [
    "Discount = []\n",
    "for i in driver4.find_elements_by_xpath(\"//div[@class='_3Ay6Sb']\"):\n",
    "    Discount.append(i.text)\n",
    "Discount"
   ]
  },
  {
   "cell_type": "code",
   "execution_count": null,
   "metadata": {},
   "outputs": [],
   "source": [
    "#For next page 2"
   ]
  },
  {
   "cell_type": "code",
   "execution_count": 58,
   "metadata": {},
   "outputs": [],
   "source": [
    "next_button = driver4.find_element_by_xpath(\"//a[@class='_1LKTO3']\")\n",
    "next_button.click()"
   ]
  },
  {
   "cell_type": "code",
   "execution_count": null,
   "metadata": {},
   "outputs": [],
   "source": [
    "#Page 2 for flipkart.com I have scraped another 40 data."
   ]
  },
  {
   "cell_type": "code",
   "execution_count": 65,
   "metadata": {},
   "outputs": [
    {
     "data": {
      "text/plain": [
       "80"
      ]
     },
     "execution_count": 65,
     "metadata": {},
     "output_type": "execute_result"
    }
   ],
   "source": [
    "for i in driver4.find_elements_by_xpath('//div[@class=\"_2WkVRV\"]'):\n",
    "    Brand.append(i.text)\n",
    "len(Brand)"
   ]
  },
  {
   "cell_type": "code",
   "execution_count": 70,
   "metadata": {},
   "outputs": [
    {
     "data": {
      "text/plain": [
       "80"
      ]
     },
     "execution_count": 70,
     "metadata": {},
     "output_type": "execute_result"
    }
   ],
   "source": [
    "for i in driver4.find_elements_by_xpath(\"//a[@class='IRpwTa']\"):\n",
    "    Product_Description.append(i.text)\n",
    "len(Product_Description)"
   ]
  },
  {
   "cell_type": "code",
   "execution_count": 72,
   "metadata": {},
   "outputs": [
    {
     "data": {
      "text/plain": [
       "80"
      ]
     },
     "execution_count": 72,
     "metadata": {},
     "output_type": "execute_result"
    }
   ],
   "source": [
    "for i in driver4.find_elements_by_xpath(\"//div[@class='_30jeq3']\"):\n",
    "    Price.append(i.text)\n",
    "len(Price)"
   ]
  },
  {
   "cell_type": "code",
   "execution_count": 74,
   "metadata": {},
   "outputs": [
    {
     "data": {
      "text/plain": [
       "80"
      ]
     },
     "execution_count": 74,
     "metadata": {},
     "output_type": "execute_result"
    }
   ],
   "source": [
    "for i in driver4.find_elements_by_xpath(\"//div[@class='_3Ay6Sb']\"):\n",
    "    Discount.append(i.text)\n",
    "len(Discount)"
   ]
  },
  {
   "cell_type": "code",
   "execution_count": null,
   "metadata": {},
   "outputs": [],
   "source": [
    "#Page 3 for flipkart.com I have scraped another 20 data."
   ]
  },
  {
   "cell_type": "code",
   "execution_count": 84,
   "metadata": {},
   "outputs": [
    {
     "data": {
      "text/plain": [
       "100"
      ]
     },
     "execution_count": 84,
     "metadata": {},
     "output_type": "execute_result"
    }
   ],
   "source": [
    "for i in driver4.find_elements_by_xpath('//div[@class=\"_2WkVRV\"]')[:20]:\n",
    "    Brand.append(i.text)\n",
    "len(Brand)"
   ]
  },
  {
   "cell_type": "code",
   "execution_count": 85,
   "metadata": {},
   "outputs": [
    {
     "data": {
      "text/plain": [
       "100"
      ]
     },
     "execution_count": 85,
     "metadata": {},
     "output_type": "execute_result"
    }
   ],
   "source": [
    "for i in driver4.find_elements_by_xpath(\"//a[@class='IRpwTa']\")[:20]:\n",
    "    Product_Description.append(i.text)\n",
    "len(Product_Description)"
   ]
  },
  {
   "cell_type": "code",
   "execution_count": 86,
   "metadata": {},
   "outputs": [
    {
     "data": {
      "text/plain": [
       "100"
      ]
     },
     "execution_count": 86,
     "metadata": {},
     "output_type": "execute_result"
    }
   ],
   "source": [
    "for i in driver4.find_elements_by_xpath(\"//div[@class='_30jeq3']\")[:20]:\n",
    "    Price.append(i.text)\n",
    "len(Price)"
   ]
  },
  {
   "cell_type": "code",
   "execution_count": 87,
   "metadata": {},
   "outputs": [
    {
     "data": {
      "text/plain": [
       "100"
      ]
     },
     "execution_count": 87,
     "metadata": {},
     "output_type": "execute_result"
    }
   ],
   "source": [
    "for i in driver4.find_elements_by_xpath(\"//div[@class='_3Ay6Sb']\")[:20]:\n",
    "    Discount.append(i.text)\n",
    "len(Discount)"
   ]
  },
  {
   "cell_type": "code",
   "execution_count": 92,
   "metadata": {},
   "outputs": [
    {
     "data": {
      "text/plain": [
       "100"
      ]
     },
     "execution_count": 92,
     "metadata": {},
     "output_type": "execute_result"
    }
   ],
   "source": [
    "Discount = [i.split('%')[0] for i in Discount]\n",
    "len(Discount)"
   ]
  },
  {
   "cell_type": "code",
   "execution_count": 95,
   "metadata": {},
   "outputs": [
    {
     "data": {
      "text/html": [
       "<div>\n",
       "<style scoped>\n",
       "    .dataframe tbody tr th:only-of-type {\n",
       "        vertical-align: middle;\n",
       "    }\n",
       "\n",
       "    .dataframe tbody tr th {\n",
       "        vertical-align: top;\n",
       "    }\n",
       "\n",
       "    .dataframe thead th {\n",
       "        text-align: right;\n",
       "    }\n",
       "</style>\n",
       "<table border=\"1\" class=\"dataframe\">\n",
       "  <thead>\n",
       "    <tr style=\"text-align: right;\">\n",
       "      <th></th>\n",
       "      <th>Brand</th>\n",
       "      <th>Product_Description</th>\n",
       "      <th>Price</th>\n",
       "      <th>Discount</th>\n",
       "    </tr>\n",
       "  </thead>\n",
       "  <tbody>\n",
       "    <tr>\n",
       "      <th>0</th>\n",
       "      <td>SRPM</td>\n",
       "      <td>Night Vision, UV Protection Round Sunglasses (54)</td>\n",
       "      <td>₹207</td>\n",
       "      <td>79</td>\n",
       "    </tr>\n",
       "    <tr>\n",
       "      <th>1</th>\n",
       "      <td>Fastrack</td>\n",
       "      <td>Gradient, UV Protection Wayfarer Sunglasses (F...</td>\n",
       "      <td>₹599</td>\n",
       "      <td>25</td>\n",
       "    </tr>\n",
       "    <tr>\n",
       "      <th>2</th>\n",
       "      <td>ROZZETTA CRAFT</td>\n",
       "      <td>UV Protection, Gradient Round Sunglasses (Free...</td>\n",
       "      <td>₹359</td>\n",
       "      <td>82</td>\n",
       "    </tr>\n",
       "    <tr>\n",
       "      <th>3</th>\n",
       "      <td>CRYSTAL CART</td>\n",
       "      <td>Polarized, UV Protection, Gradient, Riding Gla...</td>\n",
       "      <td>₹319</td>\n",
       "      <td>78</td>\n",
       "    </tr>\n",
       "    <tr>\n",
       "      <th>4</th>\n",
       "      <td>ROYAL SON</td>\n",
       "      <td>Mirrored Aviator Sunglasses (Free Size)</td>\n",
       "      <td>₹359</td>\n",
       "      <td>76</td>\n",
       "    </tr>\n",
       "    <tr>\n",
       "      <th>...</th>\n",
       "      <td>...</td>\n",
       "      <td>...</td>\n",
       "      <td>...</td>\n",
       "      <td>...</td>\n",
       "    </tr>\n",
       "    <tr>\n",
       "      <th>95</th>\n",
       "      <td>ROYAL SON</td>\n",
       "      <td>Polarized, UV Protection Sports Sunglasses (68)</td>\n",
       "      <td>₹1,039</td>\n",
       "      <td>58</td>\n",
       "    </tr>\n",
       "    <tr>\n",
       "      <th>96</th>\n",
       "      <td>PIRASO</td>\n",
       "      <td>UV Protection Butterfly Sunglasses (60)</td>\n",
       "      <td>₹360</td>\n",
       "      <td>86</td>\n",
       "    </tr>\n",
       "    <tr>\n",
       "      <th>97</th>\n",
       "      <td>VINCENT CHASE</td>\n",
       "      <td>by Lenskart Polarized, UV Protection Aviator S...</td>\n",
       "      <td>₹1,049</td>\n",
       "      <td>47</td>\n",
       "    </tr>\n",
       "    <tr>\n",
       "      <th>98</th>\n",
       "      <td>Fastrack</td>\n",
       "      <td>UV Protection Wayfarer Sunglasses (55)</td>\n",
       "      <td>₹721</td>\n",
       "      <td>9</td>\n",
       "    </tr>\n",
       "    <tr>\n",
       "      <th>99</th>\n",
       "      <td>HRX by Hrithik Roshan</td>\n",
       "      <td>Polarized Wayfarer Sunglasses (Free Size)</td>\n",
       "      <td>₹1,007</td>\n",
       "      <td>64</td>\n",
       "    </tr>\n",
       "  </tbody>\n",
       "</table>\n",
       "<p>100 rows × 4 columns</p>\n",
       "</div>"
      ],
      "text/plain": [
       "                    Brand                                Product_Description  \\\n",
       "0                    SRPM  Night Vision, UV Protection Round Sunglasses (54)   \n",
       "1                Fastrack  Gradient, UV Protection Wayfarer Sunglasses (F...   \n",
       "2          ROZZETTA CRAFT  UV Protection, Gradient Round Sunglasses (Free...   \n",
       "3            CRYSTAL CART  Polarized, UV Protection, Gradient, Riding Gla...   \n",
       "4               ROYAL SON            Mirrored Aviator Sunglasses (Free Size)   \n",
       "..                    ...                                                ...   \n",
       "95              ROYAL SON    Polarized, UV Protection Sports Sunglasses (68)   \n",
       "96                 PIRASO            UV Protection Butterfly Sunglasses (60)   \n",
       "97          VINCENT CHASE  by Lenskart Polarized, UV Protection Aviator S...   \n",
       "98               Fastrack             UV Protection Wayfarer Sunglasses (55)   \n",
       "99  HRX by Hrithik Roshan          Polarized Wayfarer Sunglasses (Free Size)   \n",
       "\n",
       "     Price Discount  \n",
       "0     ₹207       79  \n",
       "1     ₹599       25  \n",
       "2     ₹359       82  \n",
       "3     ₹319       78  \n",
       "4     ₹359       76  \n",
       "..     ...      ...  \n",
       "95  ₹1,039       58  \n",
       "96    ₹360       86  \n",
       "97  ₹1,049       47  \n",
       "98    ₹721        9  \n",
       "99  ₹1,007       64  \n",
       "\n",
       "[100 rows x 4 columns]"
      ]
     },
     "execution_count": 95,
     "metadata": {},
     "output_type": "execute_result"
    }
   ],
   "source": [
    "df = pd.DataFrame({\n",
    "    'Brand' : Brand,\n",
    "    'Product_Description' : Product_Description,\n",
    "    'Price' : Price,\n",
    "    'Discount' : Discount\n",
    "})\n",
    "df"
   ]
  },
  {
   "cell_type": "markdown",
   "metadata": {},
   "source": [
    "Q5: Scrape 100 reviews data from flipkart.com for iphone11 phone.\n",
    "This task will be done in following steps:\n",
    "1. First get the webpage https://www.flipkart.com/\n",
    "2. Enter “iphone 11” in “Search” field .\n",
    "3. Then click the search button.\n",
    "You will reach to the below shown webpage\n",
    "As shown in the above page you have to scrape the tick marked attributes.These are:\n",
    "1. Rating\n",
    "2. Review summary\n",
    "3. Full review\n",
    "4. You have to scrape this data for first 100 reviews.\n",
    "Note: All the steps required during scraping should be done through code only and not manually."
   ]
  },
  {
   "cell_type": "code",
   "execution_count": 39,
   "metadata": {},
   "outputs": [],
   "source": [
    "driver5 = webdriver.Chrome('chromedriver.exe')\n",
    "time.sleep(2)\n",
    "\n",
    "driver5.get('https://www.flipkart.com/')"
   ]
  },
  {
   "cell_type": "code",
   "execution_count": 37,
   "metadata": {},
   "outputs": [],
   "source": [
    "data_iphone = driver5.find_element_by_xpath(\"//div[@class='_3OO5Xc']//input[@type = 'text']\")\n",
    "data_iphone.send_keys(\"iphone 11\")"
   ]
  },
  {
   "cell_type": "code",
   "execution_count": 38,
   "metadata": {},
   "outputs": [],
   "source": [
    "sub_button_ = driver5.find_element_by_xpath(\"//div[@class = 'col-12-12 _2oO9oE']//button[@class = 'L0Z3Pu']\")\n",
    "sub_button_.click()"
   ]
  },
  {
   "cell_type": "code",
   "execution_count": 32,
   "metadata": {},
   "outputs": [],
   "source": [
    "Rating_ = []\n",
    "Review_summary = []\n",
    "Full_review = []\n",
    "\n",
    "while True:\n",
    "    time.sleep(3)\n",
    "    \n",
    "    for i in driver5.find_elements_by_xpath(\"//div[@class = 'col _2wzgFH K0kLPL']/div[@class= 'row']/div\"):\n",
    "        Rating_.append(i.text)\n",
    "        if len(Rating_) == 200:\n",
    "            break \n",
    "            \n",
    "    for i in driver5.find_elements_by_xpath(\"//div[@class= 'row']//p[@class = '_2-N8zT']\"):\n",
    "        Review_summary.append(i.text)\n",
    "        if len(Review_summary) == 100:\n",
    "            break \n",
    "            \n",
    "    for i in driver5.find_elements_by_xpath(\"//div[@class= 't-ZTKy']//div[@class]\"):\n",
    "        Full_review.append(i.text.replace('\\n',''))\n",
    "        if len(Full_review) == 100:\n",
    "            break \n",
    "        \n",
    "    if len(Full_review) == 100:\n",
    "        break    \n",
    "                \n",
    "    for i in driver5.find_elements_by_xpath(\"//nav[@class='yFHi8N']//a[@class='_1LKTO3']\"):\n",
    "        next=[i.get_attribute(\"href\")]\n",
    "    \n",
    "    time.sleep(3)\n",
    "        \n",
    "    for n in next:\n",
    "        driver5.get(n)\n",
    "\n",
    "\n",
    "Rat = [] # Since Product_Description have many unwanted information am following this method to clense it.\n",
    "for i in range(0,len(Rating_)):\n",
    "    if i == 0 or  i/2 == i//2:\n",
    "        Rat.append(Rating_[i])"
   ]
  },
  {
   "cell_type": "code",
   "execution_count": 33,
   "metadata": {},
   "outputs": [
    {
     "data": {
      "text/plain": [
       "[]"
      ]
     },
     "execution_count": 33,
     "metadata": {},
     "output_type": "execute_result"
    }
   ],
   "source": [
    "Rat = [] # Since Product_Description have many unwanted information am following this method to clense it.\n",
    "for i in range(0,len(Rating_)):\n",
    "    if i == 0 or  i/2 == i//2:\n",
    "        Rat.append(Rating_[i])\n",
    "Rat"
   ]
  },
  {
   "cell_type": "code",
   "execution_count": 34,
   "metadata": {},
   "outputs": [
    {
     "data": {
      "text/plain": [
       "100"
      ]
     },
     "execution_count": 34,
     "metadata": {},
     "output_type": "execute_result"
    }
   ],
   "source": [
    "len(Full_review)"
   ]
  },
  {
   "cell_type": "code",
   "execution_count": 35,
   "metadata": {},
   "outputs": [
    {
     "data": {
      "text/html": [
       "<div>\n",
       "<style scoped>\n",
       "    .dataframe tbody tr th:only-of-type {\n",
       "        vertical-align: middle;\n",
       "    }\n",
       "\n",
       "    .dataframe tbody tr th {\n",
       "        vertical-align: top;\n",
       "    }\n",
       "\n",
       "    .dataframe thead th {\n",
       "        text-align: right;\n",
       "    }\n",
       "</style>\n",
       "<table border=\"1\" class=\"dataframe\">\n",
       "  <thead>\n",
       "    <tr style=\"text-align: right;\">\n",
       "      <th></th>\n",
       "      <th>Review_summary</th>\n",
       "      <th>Full review</th>\n",
       "    </tr>\n",
       "  </thead>\n",
       "  <tbody>\n",
       "    <tr>\n",
       "      <th>0</th>\n",
       "      <td>Best phone still @25-27K</td>\n",
       "      <td>Purchased at BBD @2016 Oct. After 5months of u...</td>\n",
       "    </tr>\n",
       "    <tr>\n",
       "      <th>1</th>\n",
       "      <td>Absolute rubbish!</td>\n",
       "      <td>battery service very bad ..Battery not working...</td>\n",
       "    </tr>\n",
       "    <tr>\n",
       "      <th>2</th>\n",
       "      <td>Fabulous!</td>\n",
       "      <td>Fast performance to previous iPhone xGood came...</td>\n",
       "    </tr>\n",
       "    <tr>\n",
       "      <th>3</th>\n",
       "      <td>Great product</td>\n",
       "      <td>Nithing to say..just awesome</td>\n",
       "    </tr>\n",
       "    <tr>\n",
       "      <th>4</th>\n",
       "      <td>Good quality product</td>\n",
       "      <td>impressively Nice......One of the greatest iPh...</td>\n",
       "    </tr>\n",
       "    <tr>\n",
       "      <th>...</th>\n",
       "      <td>...</td>\n",
       "      <td>...</td>\n",
       "    </tr>\n",
       "    <tr>\n",
       "      <th>95</th>\n",
       "      <td>Absolute rubbish!</td>\n",
       "      <td>battery service very bad ..Battery not working...</td>\n",
       "    </tr>\n",
       "    <tr>\n",
       "      <th>96</th>\n",
       "      <td>Good phone but not for the power user</td>\n",
       "      <td>Apple's iPhone series have been known for thei...</td>\n",
       "    </tr>\n",
       "    <tr>\n",
       "      <th>97</th>\n",
       "      <td>Super!</td>\n",
       "      <td>This review is after 6 year of purchasing this...</td>\n",
       "    </tr>\n",
       "    <tr>\n",
       "      <th>98</th>\n",
       "      <td>Best phone still @25-27K</td>\n",
       "      <td>Purchased at BBD @2016 Oct. After 5months of u...</td>\n",
       "    </tr>\n",
       "    <tr>\n",
       "      <th>99</th>\n",
       "      <td>Absolute rubbish!</td>\n",
       "      <td>battery service very bad ..Battery not working...</td>\n",
       "    </tr>\n",
       "  </tbody>\n",
       "</table>\n",
       "<p>100 rows × 2 columns</p>\n",
       "</div>"
      ],
      "text/plain": [
       "                           Review_summary  \\\n",
       "0                Best phone still @25-27K   \n",
       "1                       Absolute rubbish!   \n",
       "2                               Fabulous!   \n",
       "3                           Great product   \n",
       "4                    Good quality product   \n",
       "..                                    ...   \n",
       "95                      Absolute rubbish!   \n",
       "96  Good phone but not for the power user   \n",
       "97                                 Super!   \n",
       "98               Best phone still @25-27K   \n",
       "99                      Absolute rubbish!   \n",
       "\n",
       "                                          Full review  \n",
       "0   Purchased at BBD @2016 Oct. After 5months of u...  \n",
       "1   battery service very bad ..Battery not working...  \n",
       "2   Fast performance to previous iPhone xGood came...  \n",
       "3                        Nithing to say..just awesome  \n",
       "4   impressively Nice......One of the greatest iPh...  \n",
       "..                                                ...  \n",
       "95  battery service very bad ..Battery not working...  \n",
       "96  Apple's iPhone series have been known for thei...  \n",
       "97  This review is after 6 year of purchasing this...  \n",
       "98  Purchased at BBD @2016 Oct. After 5months of u...  \n",
       "99  battery service very bad ..Battery not working...  \n",
       "\n",
       "[100 rows x 2 columns]"
      ]
     },
     "execution_count": 35,
     "metadata": {},
     "output_type": "execute_result"
    }
   ],
   "source": [
    "i_phone11_review = pd.DataFrame({\n",
    "                     \"Review_summary\" : Review_summary,\n",
    "                     \"Full review\" : Full_review})\n",
    "\n",
    "i_phone11_review"
   ]
  },
  {
   "cell_type": "markdown",
   "metadata": {},
   "source": [
    "Q6: Scrape data for first 100 sneakers you find when you visit flipkart.com and search for “sneakers” in the\n",
    "search field.\n",
    "You have to scrape 4 attributes of each sneaker:\n",
    "1. Brand\n",
    "2. Product Description\n",
    "3. Price\n",
    "As shown in the below image, you have to scrape the tick marked attributes.\n"
   ]
  },
  {
   "cell_type": "code",
   "execution_count": 41,
   "metadata": {},
   "outputs": [],
   "source": [
    "driver6 = webdriver.Chrome('chromedriver.exe')\n",
    "time.sleep(2)\n",
    "\n",
    "driver6.get('https://www.flipkart.com/')"
   ]
  },
  {
   "cell_type": "code",
   "execution_count": 42,
   "metadata": {},
   "outputs": [],
   "source": [
    "prod_ser_ = driver6.find_element_by_xpath(\"//div[@class='_3OO5Xc']//input[@type = 'text']\")\n",
    "prod_ser_.send_keys(\"sneakers\")"
   ]
  },
  {
   "cell_type": "code",
   "execution_count": 43,
   "metadata": {},
   "outputs": [],
   "source": [
    "sub_button_ = driver6.find_element_by_xpath(\"//div[@class = 'col-12-12 _2oO9oE']//button[@class = 'L0Z3Pu']\")\n",
    "sub_button_.click()"
   ]
  },
  {
   "cell_type": "code",
   "execution_count": 44,
   "metadata": {},
   "outputs": [
    {
     "data": {
      "text/plain": [
       "['BRUTON',\n",
       " 'Roadster',\n",
       " 'BRUTON',\n",
       " 'URBANBOX',\n",
       " 'Robbie jones',\n",
       " 'Layasa',\n",
       " 'BIRDE',\n",
       " 'Afreet',\n",
       " 'BRUTON',\n",
       " 'BRUTON',\n",
       " 'Labbin',\n",
       " 'HOTSTYLE',\n",
       " 'Magnolia',\n",
       " 'D-SNEAKERZ',\n",
       " 'Robbie jones',\n",
       " 'HOTSTYLE',\n",
       " 'KWIK FIT',\n",
       " 'PUMA',\n",
       " 'Robbie jones',\n",
       " 'NAUTICA',\n",
       " 'ASTEROID',\n",
       " 'asics',\n",
       " 'Robbie jones',\n",
       " 'NAUTICA',\n",
       " 'ADIDAS',\n",
       " 'bluemaker',\n",
       " 'Numenzo',\n",
       " 'U.S. POLO ASSN.',\n",
       " 'corsac',\n",
       " 'Kraasa',\n",
       " 'CLYMB',\n",
       " 'U.S. POLO ASSN.',\n",
       " 'PUMA',\n",
       " 'aadi',\n",
       " 'asics',\n",
       " 'Chevit',\n",
       " 'ONECENTRE',\n",
       " 'Dicy',\n",
       " 'HOTSTYLE',\n",
       " 'ASTEROID']"
      ]
     },
     "execution_count": 44,
     "metadata": {},
     "output_type": "execute_result"
    }
   ],
   "source": [
    "Brand_ = []\n",
    "\n",
    "for i in driver6.find_elements_by_xpath(\"//div[@class='_2WkVRV']\"):\n",
    "    Brand_.append(i.text)\n",
    "Brand_"
   ]
  },
  {
   "cell_type": "code",
   "execution_count": 45,
   "metadata": {},
   "outputs": [
    {
     "name": "stdout",
     "output_type": "stream",
     "text": [
      "40\n"
     ]
    }
   ],
   "source": [
    "print(len(Brand_))"
   ]
  },
  {
   "cell_type": "code",
   "execution_count": 65,
   "metadata": {},
   "outputs": [
    {
     "data": {
      "text/plain": [
       "['Combo Pack Of 4 Casual Shoes Loafer Shoes Sneakers For ...',\n",
       " 'Men Blue Solid Sneakers Sneakers For Men',\n",
       " 'Modern Trendy Shoes Sneakers For Men',\n",
       " 'Casual Sneakers Green Shoes For Men And Boys Sneakers F...',\n",
       " 'Sneakers For Men',\n",
       " 'Stylish Comfortable Lightweight, Breathable Walking Sho...',\n",
       " 'Sneakers For Men',\n",
       " 'Lightweight Pack Of 1 Trendy Sneakers Sneakers For Men',\n",
       " 'Modern Trendy Sneakers Shoes Sneakers For Men',\n",
       " 'Sneakers For Men',\n",
       " 'CR-1 Sneakers For Men',\n",
       " 'Sneakers For Men',\n",
       " \"Casual , Partywear Sneakers Shoes For Men's And Boys Wh...\",\n",
       " 'Casual Sneakers Canvas Shoes For Men Sneakers For Men',\n",
       " 'Kwik FIT casual sneaker shoes and partywear shoes Casua...',\n",
       " 'Puma Smash Vulc Sneakers For Men',\n",
       " 'Sneakers For Men',\n",
       " 'Sneakers For Men',\n",
       " \"Original Luxury Branded Fashionable Men's Casual Walkin...\",\n",
       " 'AMPLICA Sneakers For Men',\n",
       " 'Sneakers For Men',\n",
       " 'Sneakers For Men',\n",
       " 'STREET ICON M Sneakers For Men',\n",
       " 'casual for men Sneakers For Men',\n",
       " 'Sneakers For Men',\n",
       " 'STYLISH MENS BLACK AND WHITE SNEAKER Sneakers For Men',\n",
       " 'Shark-41 Sneakers For Men',\n",
       " 'Sneakers For Men',\n",
       " 'Sneakers For Men',\n",
       " 'Sneakers For Men',\n",
       " 'fuzor B Sneakers For Men',\n",
       " '494 Perfect Sports Shoes for Running Training Hikking &...',\n",
       " 'STR2 Sneakers For Men',\n",
       " 'Sneakers For Men',\n",
       " 'Sneakers For Men',\n",
       " 'Wings Print Premium Fancy Stylish Fashion Sneakers Clas...']"
      ]
     },
     "execution_count": 65,
     "metadata": {},
     "output_type": "execute_result"
    }
   ],
   "source": [
    "Product_Description_ = []\n",
    "for i in driver6.find_elements_by_xpath(\"//a[@class='IRpwTa']\"):\n",
    "    Product_Description_.append(i.text)\n",
    "Product_Description_"
   ]
  },
  {
   "cell_type": "code",
   "execution_count": 66,
   "metadata": {},
   "outputs": [
    {
     "name": "stdout",
     "output_type": "stream",
     "text": [
      "36\n"
     ]
    }
   ],
   "source": [
    "print(len(Product_Description_))"
   ]
  },
  {
   "cell_type": "code",
   "execution_count": 70,
   "metadata": {},
   "outputs": [
    {
     "data": {
      "text/plain": [
       "['₹499',\n",
       " '₹1,199',\n",
       " '₹279',\n",
       " '₹198',\n",
       " '₹399',\n",
       " '₹399',\n",
       " '₹299',\n",
       " '₹431',\n",
       " '₹199',\n",
       " '₹283',\n",
       " '₹474',\n",
       " '₹258',\n",
       " '₹374',\n",
       " '₹284',\n",
       " '₹399',\n",
       " '₹180',\n",
       " '₹397',\n",
       " '₹2,089',\n",
       " '₹399',\n",
       " '₹1,324',\n",
       " '₹474',\n",
       " '₹1,845',\n",
       " '₹399',\n",
       " '₹1,324',\n",
       " '₹2,179',\n",
       " '₹399',\n",
       " '₹569',\n",
       " '₹2,399',\n",
       " '₹499',\n",
       " '₹419',\n",
       " '₹519',\n",
       " '₹2,079',\n",
       " '₹6,319',\n",
       " '₹319',\n",
       " '₹2,199',\n",
       " '₹254',\n",
       " '₹300',\n",
       " '₹284',\n",
       " '₹247',\n",
       " '₹519']"
      ]
     },
     "execution_count": 70,
     "metadata": {},
     "output_type": "execute_result"
    }
   ],
   "source": [
    "Price_ = []\n",
    "for i in driver6.find_elements_by_xpath(\"//div[@class='_30jeq3']\"):\n",
    "    Price_.append(i.text)\n",
    "Price_"
   ]
  },
  {
   "cell_type": "code",
   "execution_count": 71,
   "metadata": {},
   "outputs": [
    {
     "data": {
      "text/plain": [
       "40"
      ]
     },
     "execution_count": 71,
     "metadata": {},
     "output_type": "execute_result"
    }
   ],
   "source": [
    "len(Price_)"
   ]
  },
  {
   "cell_type": "code",
   "execution_count": 52,
   "metadata": {},
   "outputs": [
    {
     "data": {
      "text/plain": [
       "['85% off',\n",
       " '63% off',\n",
       " '78% off',\n",
       " '80% off',\n",
       " '60% off',\n",
       " '60% off',\n",
       " '70% off',\n",
       " '56% off',\n",
       " '66% off',\n",
       " '78% off',\n",
       " '52% off',\n",
       " '48% off',\n",
       " '62% off',\n",
       " '56% off',\n",
       " '60% off',\n",
       " '63% off',\n",
       " '80% off',\n",
       " '45% off',\n",
       " '60% off',\n",
       " '75% off',\n",
       " '76% off',\n",
       " '63% off',\n",
       " '60% off',\n",
       " '75% off',\n",
       " '39% off',\n",
       " '60% off',\n",
       " '81% off',\n",
       " '40% off',\n",
       " '66% off',\n",
       " '58% off',\n",
       " '65% off',\n",
       " '35% off',\n",
       " '21% off',\n",
       " '68% off',\n",
       " '42% off',\n",
       " '74% off',\n",
       " '50% off',\n",
       " '52% off',\n",
       " '75% off',\n",
       " '74% off']"
      ]
     },
     "execution_count": 52,
     "metadata": {},
     "output_type": "execute_result"
    }
   ],
   "source": [
    "Discount_ = []\n",
    "for i in driver6.find_elements_by_xpath(\"//div[@class='_3Ay6Sb']\"):\n",
    "    Discount_.append(i.text)\n",
    "Discount_"
   ]
  },
  {
   "cell_type": "code",
   "execution_count": 53,
   "metadata": {},
   "outputs": [
    {
     "name": "stdout",
     "output_type": "stream",
     "text": [
      "40\n"
     ]
    }
   ],
   "source": [
    "print(len(Discount_))"
   ]
  },
  {
   "cell_type": "code",
   "execution_count": 57,
   "metadata": {},
   "outputs": [
    {
     "data": {
      "text/plain": [
       "80"
      ]
     },
     "execution_count": 57,
     "metadata": {},
     "output_type": "execute_result"
    }
   ],
   "source": [
    "for i in driver6.find_elements_by_xpath('//div[@class=\"_2WkVRV\"]'):\n",
    "    Brand_.append(i.text)\n",
    "len(Brand_)"
   ]
  },
  {
   "cell_type": "code",
   "execution_count": 67,
   "metadata": {},
   "outputs": [
    {
     "data": {
      "text/plain": [
       "72"
      ]
     },
     "execution_count": 67,
     "metadata": {},
     "output_type": "execute_result"
    }
   ],
   "source": [
    "for i in driver6.find_elements_by_xpath(\"//a[@class='IRpwTa']\"):\n",
    "    Product_Description_.append(i.text)\n",
    "len(Product_Description_)"
   ]
  },
  {
   "cell_type": "code",
   "execution_count": 72,
   "metadata": {},
   "outputs": [
    {
     "data": {
      "text/plain": [
       "80"
      ]
     },
     "execution_count": 72,
     "metadata": {},
     "output_type": "execute_result"
    }
   ],
   "source": [
    "for i in driver6.find_elements_by_xpath(\"//div[@class='_30jeq3']\"):\n",
    "    Price_.append(i.text)\n",
    "len(Price_)"
   ]
  },
  {
   "cell_type": "code",
   "execution_count": 60,
   "metadata": {},
   "outputs": [
    {
     "data": {
      "text/plain": [
       "80"
      ]
     },
     "execution_count": 60,
     "metadata": {},
     "output_type": "execute_result"
    }
   ],
   "source": [
    "for i in driver6.find_elements_by_xpath(\"//div[@class='_3Ay6Sb']\"):\n",
    "    Discount_.append(i.text)\n",
    "len(Discount_)"
   ]
  },
  {
   "cell_type": "code",
   "execution_count": 61,
   "metadata": {},
   "outputs": [
    {
     "data": {
      "text/plain": [
       "100"
      ]
     },
     "execution_count": 61,
     "metadata": {},
     "output_type": "execute_result"
    }
   ],
   "source": [
    "for i in driver6.find_elements_by_xpath('//div[@class=\"_2WkVRV\"]')[:20]:\n",
    "    Brand_.append(i.text)\n",
    "len(Brand_)"
   ]
  },
  {
   "cell_type": "code",
   "execution_count": 68,
   "metadata": {},
   "outputs": [
    {
     "data": {
      "text/plain": [
       "100"
      ]
     },
     "execution_count": 68,
     "metadata": {},
     "output_type": "execute_result"
    }
   ],
   "source": [
    "for i in driver6.find_elements_by_xpath(\"//a[@class='IRpwTa']\")[:28]:\n",
    "    Product_Description_.append(i.text)\n",
    "len(Product_Description_)"
   ]
  },
  {
   "cell_type": "code",
   "execution_count": 73,
   "metadata": {},
   "outputs": [
    {
     "data": {
      "text/plain": [
       "100"
      ]
     },
     "execution_count": 73,
     "metadata": {},
     "output_type": "execute_result"
    }
   ],
   "source": [
    "for i in driver6.find_elements_by_xpath(\"//div[@class='_30jeq3']\")[:20]:\n",
    "    Price_.append(i.text)\n",
    "len(Price_)"
   ]
  },
  {
   "cell_type": "code",
   "execution_count": 74,
   "metadata": {},
   "outputs": [
    {
     "data": {
      "text/plain": [
       "100"
      ]
     },
     "execution_count": 74,
     "metadata": {},
     "output_type": "execute_result"
    }
   ],
   "source": [
    "for i in driver6.find_elements_by_xpath(\"//div[@class='_3Ay6Sb']\")[:20]:\n",
    "    Discount_.append(i.text)\n",
    "len(Discount_)"
   ]
  },
  {
   "cell_type": "code",
   "execution_count": 75,
   "metadata": {},
   "outputs": [
    {
     "data": {
      "text/html": [
       "<div>\n",
       "<style scoped>\n",
       "    .dataframe tbody tr th:only-of-type {\n",
       "        vertical-align: middle;\n",
       "    }\n",
       "\n",
       "    .dataframe tbody tr th {\n",
       "        vertical-align: top;\n",
       "    }\n",
       "\n",
       "    .dataframe thead th {\n",
       "        text-align: right;\n",
       "    }\n",
       "</style>\n",
       "<table border=\"1\" class=\"dataframe\">\n",
       "  <thead>\n",
       "    <tr style=\"text-align: right;\">\n",
       "      <th></th>\n",
       "      <th>Brand</th>\n",
       "      <th>Product_Description</th>\n",
       "      <th>Price</th>\n",
       "      <th>Discount</th>\n",
       "    </tr>\n",
       "  </thead>\n",
       "  <tbody>\n",
       "    <tr>\n",
       "      <th>0</th>\n",
       "      <td>BRUTON</td>\n",
       "      <td>Combo Pack Of 4 Casual Shoes Loafer Shoes Snea...</td>\n",
       "      <td>₹499</td>\n",
       "      <td>85% off</td>\n",
       "    </tr>\n",
       "    <tr>\n",
       "      <th>1</th>\n",
       "      <td>Roadster</td>\n",
       "      <td>Men Blue Solid Sneakers Sneakers For Men</td>\n",
       "      <td>₹1,199</td>\n",
       "      <td>63% off</td>\n",
       "    </tr>\n",
       "    <tr>\n",
       "      <th>2</th>\n",
       "      <td>BRUTON</td>\n",
       "      <td>Modern Trendy Shoes Sneakers For Men</td>\n",
       "      <td>₹279</td>\n",
       "      <td>78% off</td>\n",
       "    </tr>\n",
       "    <tr>\n",
       "      <th>3</th>\n",
       "      <td>URBANBOX</td>\n",
       "      <td>Casual Sneakers Green Shoes For Men And Boys S...</td>\n",
       "      <td>₹198</td>\n",
       "      <td>80% off</td>\n",
       "    </tr>\n",
       "    <tr>\n",
       "      <th>4</th>\n",
       "      <td>Robbie jones</td>\n",
       "      <td>Sneakers For Men</td>\n",
       "      <td>₹399</td>\n",
       "      <td>60% off</td>\n",
       "    </tr>\n",
       "    <tr>\n",
       "      <th>...</th>\n",
       "      <td>...</td>\n",
       "      <td>...</td>\n",
       "      <td>...</td>\n",
       "      <td>...</td>\n",
       "    </tr>\n",
       "    <tr>\n",
       "      <th>95</th>\n",
       "      <td>HOTSTYLE</td>\n",
       "      <td>casual for men Sneakers For Men</td>\n",
       "      <td>₹180</td>\n",
       "      <td>63% off</td>\n",
       "    </tr>\n",
       "    <tr>\n",
       "      <th>96</th>\n",
       "      <td>KWIK FIT</td>\n",
       "      <td>Sneakers For Men</td>\n",
       "      <td>₹397</td>\n",
       "      <td>80% off</td>\n",
       "    </tr>\n",
       "    <tr>\n",
       "      <th>97</th>\n",
       "      <td>PUMA</td>\n",
       "      <td>STYLISH MENS BLACK AND WHITE SNEAKER Sneakers ...</td>\n",
       "      <td>₹2,089</td>\n",
       "      <td>45% off</td>\n",
       "    </tr>\n",
       "    <tr>\n",
       "      <th>98</th>\n",
       "      <td>Robbie jones</td>\n",
       "      <td>Shark-41 Sneakers For Men</td>\n",
       "      <td>₹399</td>\n",
       "      <td>60% off</td>\n",
       "    </tr>\n",
       "    <tr>\n",
       "      <th>99</th>\n",
       "      <td>NAUTICA</td>\n",
       "      <td>Sneakers For Men</td>\n",
       "      <td>₹1,324</td>\n",
       "      <td>75% off</td>\n",
       "    </tr>\n",
       "  </tbody>\n",
       "</table>\n",
       "<p>100 rows × 4 columns</p>\n",
       "</div>"
      ],
      "text/plain": [
       "           Brand                                Product_Description   Price  \\\n",
       "0         BRUTON  Combo Pack Of 4 Casual Shoes Loafer Shoes Snea...    ₹499   \n",
       "1       Roadster           Men Blue Solid Sneakers Sneakers For Men  ₹1,199   \n",
       "2         BRUTON               Modern Trendy Shoes Sneakers For Men    ₹279   \n",
       "3       URBANBOX  Casual Sneakers Green Shoes For Men And Boys S...    ₹198   \n",
       "4   Robbie jones                                   Sneakers For Men    ₹399   \n",
       "..           ...                                                ...     ...   \n",
       "95      HOTSTYLE                    casual for men Sneakers For Men    ₹180   \n",
       "96      KWIK FIT                                   Sneakers For Men    ₹397   \n",
       "97          PUMA  STYLISH MENS BLACK AND WHITE SNEAKER Sneakers ...  ₹2,089   \n",
       "98  Robbie jones                          Shark-41 Sneakers For Men    ₹399   \n",
       "99       NAUTICA                                   Sneakers For Men  ₹1,324   \n",
       "\n",
       "   Discount  \n",
       "0   85% off  \n",
       "1   63% off  \n",
       "2   78% off  \n",
       "3   80% off  \n",
       "4   60% off  \n",
       "..      ...  \n",
       "95  63% off  \n",
       "96  80% off  \n",
       "97  45% off  \n",
       "98  60% off  \n",
       "99  75% off  \n",
       "\n",
       "[100 rows x 4 columns]"
      ]
     },
     "execution_count": 75,
     "metadata": {},
     "output_type": "execute_result"
    }
   ],
   "source": [
    "df_sneakers = pd.DataFrame({\n",
    "    'Brand' : Brand_,\n",
    "    'Product_Description' : Product_Description_,\n",
    "    'Price' : Price_,\n",
    "    'Discount' : Discount_\n",
    "})\n",
    "df_sneakers"
   ]
  },
  {
   "cell_type": "markdown",
   "metadata": {},
   "source": [
    "Q7: Go to the link - https://www.myntra.com/shoes\n",
    "Set second Price filter and Color filter to “Black”, as shown in the below image\n",
    "And then scrape First 100 shoes data you get. \n",
    "The data should include “Brand” of the shoes , Short Shoe\n",
    "description, price of the shoe as shown in the below image.\n",
    "Note: Applying the filter and scraping the data, everything should be done through code only and there\n",
    "should not be any manual step."
   ]
  },
  {
   "cell_type": "code",
   "execution_count": 78,
   "metadata": {},
   "outputs": [],
   "source": [
    "driver7 = webdriver.Chrome('chromedriver.exe')\n",
    "time.sleep(2)\n",
    "\n",
    "driver7.get('https://www.myntra.com/shoes')"
   ]
  },
  {
   "cell_type": "code",
   "execution_count": 85,
   "metadata": {},
   "outputs": [],
   "source": [
    "Filter1_ = driver7.find_elements_by_xpath(\"//ul[@class ='price-list']//label[@class ='common-customCheckbox vertical-filters-label']/div[@class = 'common-checkboxIndicator']\")\n",
    "Filter1_[1].click()"
   ]
  },
  {
   "cell_type": "code",
   "execution_count": 89,
   "metadata": {},
   "outputs": [],
   "source": [
    "Filter2_ = driver7.find_element_by_xpath(\"//li[@class ='colour-listItem']//label[@class ='common-customCheckbox']\")\n",
    "Filter2_.click()"
   ]
  },
  {
   "cell_type": "code",
   "execution_count": 91,
   "metadata": {},
   "outputs": [
    {
     "data": {
      "text/plain": [
       "['Puma',\n",
       " 'UNDER ARMOUR',\n",
       " 'Puma',\n",
       " 'Puma',\n",
       " 'Skechers',\n",
       " 'UNDER ARMOUR',\n",
       " 'Nike',\n",
       " 'Puma',\n",
       " 'Nike',\n",
       " 'UNDER ARMOUR',\n",
       " 'Nike',\n",
       " 'Puma',\n",
       " 'Nike',\n",
       " 'UNDER ARMOUR',\n",
       " 'UNDER ARMOUR',\n",
       " 'Skechers',\n",
       " 'Hush Puppies',\n",
       " 'Reebok',\n",
       " 'UNDER ARMOUR',\n",
       " 'Puma',\n",
       " 'Hush Puppies',\n",
       " 'Hush Puppies',\n",
       " 'Geox',\n",
       " 'Skechers',\n",
       " 'UNDER ARMOUR',\n",
       " 'ADIDAS',\n",
       " 'Geox',\n",
       " 'Puma',\n",
       " 'Geox',\n",
       " 'ADIDAS',\n",
       " 'Geox',\n",
       " 'TOMS',\n",
       " 'Columbia',\n",
       " 'Hush Puppies',\n",
       " 'Hush Puppies',\n",
       " 'Vans',\n",
       " 'Puma',\n",
       " 'ASICS',\n",
       " 'Geox',\n",
       " 'Geox',\n",
       " 'Geox',\n",
       " 'Geox',\n",
       " 'Tommy Hilfiger',\n",
       " 'Saint G',\n",
       " 'ADIDAS',\n",
       " 'Geox',\n",
       " 'Geox',\n",
       " 'Geox',\n",
       " 'ADIDAS',\n",
       " 'Geox']"
      ]
     },
     "execution_count": 91,
     "metadata": {},
     "output_type": "execute_result"
    }
   ],
   "source": [
    "Brand_Shoe = []\n",
    "\n",
    "for i in driver7.find_elements_by_xpath(\"//h3[@class='product-brand']\"):\n",
    "    Brand_Shoe.append(i.text)\n",
    "Brand_Shoe"
   ]
  },
  {
   "cell_type": "code",
   "execution_count": 95,
   "metadata": {},
   "outputs": [
    {
     "data": {
      "text/plain": [
       "['Men Running Shoes',\n",
       " 'Men UA Charged Breeze Training',\n",
       " 'Men M Nitro Running Shoess',\n",
       " 'Electrify Nitro Running Shoes',\n",
       " 'Men Max Cushioning Running',\n",
       " 'Men Charged Rouge 3 Run Shoes',\n",
       " 'Women Pegasus 39 Running Shoes',\n",
       " 'Men Velocity Nitro 2 Running',\n",
       " 'Women Free Metcon 4 Training',\n",
       " 'Men UA Charged Vantage 2 Run',\n",
       " 'Women React MR 3 Running Shoes',\n",
       " 'Eternity Nitro Running Shoes',\n",
       " 'Women React Escape Running',\n",
       " 'Men UA TriBase Reign4 Training',\n",
       " 'Men Charged Breeze Running',\n",
       " 'Men Woven Design Sneakers',\n",
       " 'Men Solid Leather Formal Slip-Ons',\n",
       " 'Men Nanoflex TR Training Shoes',\n",
       " 'Women Charged Breeze Running',\n",
       " 'Men Velocity Nitro Running',\n",
       " 'Men Textured Leather Sneakers',\n",
       " 'Men Formal Derbys',\n",
       " 'Men Leather Loafers',\n",
       " 'Men Textured Sneakers',\n",
       " 'W omen TriBase Reign 4 Running',\n",
       " 'Men Solar Glide 4 ST Running',\n",
       " 'Men Leather Sneakers',\n",
       " 'Women Running Sports Shoes',\n",
       " 'Men Textured Leather Driving Shoes',\n",
       " 'Women Supernova Running Shoes',\n",
       " 'Men Textured Leather Driving Shoes',\n",
       " 'Men Alpargata Slip-On Sneakers',\n",
       " 'Men FACET OUTDRY Trekking Shoe',\n",
       " 'Men Solid Formal Slip-Ons',\n",
       " 'Men Solid Leather Formal Slip-Ons',\n",
       " 'Men Colourblocked Sneakers',\n",
       " 'Women Liberate NITRO Running',\n",
       " 'Men Sports Shoes',\n",
       " 'Men Textured Leather Driving Shoes',\n",
       " 'Men Textured Leather Driving Shoes',\n",
       " 'Men Textured Leather Slip-On Sneakers',\n",
       " 'Men Textured Leather Driving Shoes',\n",
       " 'Men Textured Loafers',\n",
       " 'Women Open Toe Flats',\n",
       " 'Women Sports Shoes',\n",
       " 'Men Perforations Sneakers',\n",
       " 'Men Leather Sneakers',\n",
       " 'Men Leather Sneakers',\n",
       " 'Women KarlieKlossX9000 Running',\n",
       " 'Men Leather Sneakers']"
      ]
     },
     "execution_count": 95,
     "metadata": {},
     "output_type": "execute_result"
    }
   ],
   "source": [
    "Product_Desc = []\n",
    "\n",
    "for i in driver7.find_elements_by_xpath(\"//h4[@class='product-product']\"):\n",
    "    Product_Desc.append(i.text)\n",
    "Product_Desc"
   ]
  },
  {
   "cell_type": "code",
   "execution_count": 97,
   "metadata": {},
   "outputs": [
    {
     "data": {
      "text/plain": [
       "['Rs. 9999',\n",
       " 'Rs. 8999',\n",
       " 'Rs. 12999',\n",
       " 'Rs. 9999',\n",
       " 'Rs. 8999',\n",
       " 'Rs. 7999',\n",
       " 'Rs. 10495',\n",
       " 'Rs. 7699Rs. 10999(30% OFF)',\n",
       " 'Rs. 7696Rs. 10995(30% OFF)',\n",
       " 'Rs. 7999',\n",
       " 'Rs. 10495',\n",
       " 'Rs. 12999',\n",
       " 'Rs. 8046Rs. 11495(30% OFF)',\n",
       " 'Rs. 11999',\n",
       " 'Rs. 8999',\n",
       " 'Rs. 7499',\n",
       " 'Rs. 7199Rs. 8999(Rs. 1800 OFF)',\n",
       " 'Rs. 7999',\n",
       " 'Rs. 8999',\n",
       " 'Rs. 7199Rs. 11999(40% OFF)',\n",
       " 'Rs. 7199Rs. 7999(10% OFF)',\n",
       " 'Rs. 7999Rs. 9999(Rs. 2000 OFF)',\n",
       " 'Rs. 9341Rs. 10990(15% OFF)',\n",
       " 'Rs. 7999',\n",
       " 'Rs. 11999',\n",
       " 'Rs. 10499Rs. 14999(30% OFF)',\n",
       " 'Rs. 12990',\n",
       " 'Rs. 7499Rs. 14999(50% OFF)',\n",
       " 'Rs. 9891Rs. 10990(10% OFF)',\n",
       " 'Rs. 9999',\n",
       " 'Rs. 9441Rs. 10490(Rs. 1049 OFF)',\n",
       " 'Rs. 7999',\n",
       " 'Rs. 11699Rs. 12999(Rs. 1300 OFF)',\n",
       " 'Rs. 7999Rs. 9999(Rs. 2000 OFF)',\n",
       " 'Rs. 7999Rs. 9999(Rs. 2000 OFF)',\n",
       " 'Rs. 8249Rs. 10999(Rs. 2750 OFF)',\n",
       " 'Rs. 9999',\n",
       " 'Rs. 11899Rs. 13999(15% OFF)',\n",
       " 'Rs. 9891Rs. 10990(10% OFF)',\n",
       " 'Rs. 8491Rs. 9990(Rs. 1499 OFF)',\n",
       " 'Rs. 8991Rs. 9990(10% OFF)',\n",
       " 'Rs. 9341Rs. 10990(15% OFF)',\n",
       " 'Rs. 8999',\n",
       " 'Rs. 8075Rs. 8500(5% OFF)',\n",
       " 'Rs. 9899Rs. 17999(Rs. 8100 OFF)',\n",
       " 'Rs. 13990',\n",
       " 'Rs. 10990',\n",
       " 'Rs. 12990',\n",
       " 'Rs. 13999',\n",
       " 'Rs. 13990']"
      ]
     },
     "execution_count": 97,
     "metadata": {},
     "output_type": "execute_result"
    }
   ],
   "source": [
    "Shoe_Price = []\n",
    "\n",
    "for i in driver7.find_elements_by_xpath(\"//div[@class='product-price']\"):\n",
    "    Shoe_Price.append(i.text)\n",
    "Shoe_Price"
   ]
  },
  {
   "cell_type": "code",
   "execution_count": 99,
   "metadata": {},
   "outputs": [
    {
     "data": {
      "text/html": [
       "<div>\n",
       "<style scoped>\n",
       "    .dataframe tbody tr th:only-of-type {\n",
       "        vertical-align: middle;\n",
       "    }\n",
       "\n",
       "    .dataframe tbody tr th {\n",
       "        vertical-align: top;\n",
       "    }\n",
       "\n",
       "    .dataframe thead th {\n",
       "        text-align: right;\n",
       "    }\n",
       "</style>\n",
       "<table border=\"1\" class=\"dataframe\">\n",
       "  <thead>\n",
       "    <tr style=\"text-align: right;\">\n",
       "      <th></th>\n",
       "      <th>Brand_Shoe</th>\n",
       "      <th>Product_Description</th>\n",
       "      <th>Price</th>\n",
       "    </tr>\n",
       "  </thead>\n",
       "  <tbody>\n",
       "    <tr>\n",
       "      <th>0</th>\n",
       "      <td>Puma</td>\n",
       "      <td>Men Running Shoes</td>\n",
       "      <td>Rs. 9999</td>\n",
       "    </tr>\n",
       "    <tr>\n",
       "      <th>1</th>\n",
       "      <td>UNDER ARMOUR</td>\n",
       "      <td>Men UA Charged Breeze Training</td>\n",
       "      <td>Rs. 8999</td>\n",
       "    </tr>\n",
       "    <tr>\n",
       "      <th>2</th>\n",
       "      <td>Puma</td>\n",
       "      <td>Men M Nitro Running Shoess</td>\n",
       "      <td>Rs. 12999</td>\n",
       "    </tr>\n",
       "    <tr>\n",
       "      <th>3</th>\n",
       "      <td>Puma</td>\n",
       "      <td>Electrify Nitro Running Shoes</td>\n",
       "      <td>Rs. 9999</td>\n",
       "    </tr>\n",
       "    <tr>\n",
       "      <th>4</th>\n",
       "      <td>Skechers</td>\n",
       "      <td>Men Max Cushioning Running</td>\n",
       "      <td>Rs. 8999</td>\n",
       "    </tr>\n",
       "    <tr>\n",
       "      <th>5</th>\n",
       "      <td>UNDER ARMOUR</td>\n",
       "      <td>Men Charged Rouge 3 Run Shoes</td>\n",
       "      <td>Rs. 7999</td>\n",
       "    </tr>\n",
       "    <tr>\n",
       "      <th>6</th>\n",
       "      <td>Nike</td>\n",
       "      <td>Women Pegasus 39 Running Shoes</td>\n",
       "      <td>Rs. 10495</td>\n",
       "    </tr>\n",
       "    <tr>\n",
       "      <th>7</th>\n",
       "      <td>Puma</td>\n",
       "      <td>Men Velocity Nitro 2 Running</td>\n",
       "      <td>Rs. 7699Rs. 10999(30% OFF)</td>\n",
       "    </tr>\n",
       "    <tr>\n",
       "      <th>8</th>\n",
       "      <td>Nike</td>\n",
       "      <td>Women Free Metcon 4 Training</td>\n",
       "      <td>Rs. 7696Rs. 10995(30% OFF)</td>\n",
       "    </tr>\n",
       "    <tr>\n",
       "      <th>9</th>\n",
       "      <td>UNDER ARMOUR</td>\n",
       "      <td>Men UA Charged Vantage 2 Run</td>\n",
       "      <td>Rs. 7999</td>\n",
       "    </tr>\n",
       "    <tr>\n",
       "      <th>10</th>\n",
       "      <td>Nike</td>\n",
       "      <td>Women React MR 3 Running Shoes</td>\n",
       "      <td>Rs. 10495</td>\n",
       "    </tr>\n",
       "    <tr>\n",
       "      <th>11</th>\n",
       "      <td>Puma</td>\n",
       "      <td>Eternity Nitro Running Shoes</td>\n",
       "      <td>Rs. 12999</td>\n",
       "    </tr>\n",
       "    <tr>\n",
       "      <th>12</th>\n",
       "      <td>Nike</td>\n",
       "      <td>Women React Escape Running</td>\n",
       "      <td>Rs. 8046Rs. 11495(30% OFF)</td>\n",
       "    </tr>\n",
       "    <tr>\n",
       "      <th>13</th>\n",
       "      <td>UNDER ARMOUR</td>\n",
       "      <td>Men UA TriBase Reign4 Training</td>\n",
       "      <td>Rs. 11999</td>\n",
       "    </tr>\n",
       "    <tr>\n",
       "      <th>14</th>\n",
       "      <td>UNDER ARMOUR</td>\n",
       "      <td>Men Charged Breeze Running</td>\n",
       "      <td>Rs. 8999</td>\n",
       "    </tr>\n",
       "    <tr>\n",
       "      <th>15</th>\n",
       "      <td>Skechers</td>\n",
       "      <td>Men Woven Design Sneakers</td>\n",
       "      <td>Rs. 7499</td>\n",
       "    </tr>\n",
       "    <tr>\n",
       "      <th>16</th>\n",
       "      <td>Hush Puppies</td>\n",
       "      <td>Men Solid Leather Formal Slip-Ons</td>\n",
       "      <td>Rs. 7199Rs. 8999(Rs. 1800 OFF)</td>\n",
       "    </tr>\n",
       "    <tr>\n",
       "      <th>17</th>\n",
       "      <td>Reebok</td>\n",
       "      <td>Men Nanoflex TR Training Shoes</td>\n",
       "      <td>Rs. 7999</td>\n",
       "    </tr>\n",
       "    <tr>\n",
       "      <th>18</th>\n",
       "      <td>UNDER ARMOUR</td>\n",
       "      <td>Women Charged Breeze Running</td>\n",
       "      <td>Rs. 8999</td>\n",
       "    </tr>\n",
       "    <tr>\n",
       "      <th>19</th>\n",
       "      <td>Puma</td>\n",
       "      <td>Men Velocity Nitro Running</td>\n",
       "      <td>Rs. 7199Rs. 11999(40% OFF)</td>\n",
       "    </tr>\n",
       "  </tbody>\n",
       "</table>\n",
       "</div>"
      ],
      "text/plain": [
       "      Brand_Shoe                Product_Description  \\\n",
       "0           Puma                  Men Running Shoes   \n",
       "1   UNDER ARMOUR     Men UA Charged Breeze Training   \n",
       "2           Puma         Men M Nitro Running Shoess   \n",
       "3           Puma      Electrify Nitro Running Shoes   \n",
       "4       Skechers         Men Max Cushioning Running   \n",
       "5   UNDER ARMOUR      Men Charged Rouge 3 Run Shoes   \n",
       "6           Nike     Women Pegasus 39 Running Shoes   \n",
       "7           Puma       Men Velocity Nitro 2 Running   \n",
       "8           Nike       Women Free Metcon 4 Training   \n",
       "9   UNDER ARMOUR       Men UA Charged Vantage 2 Run   \n",
       "10          Nike     Women React MR 3 Running Shoes   \n",
       "11          Puma       Eternity Nitro Running Shoes   \n",
       "12          Nike         Women React Escape Running   \n",
       "13  UNDER ARMOUR     Men UA TriBase Reign4 Training   \n",
       "14  UNDER ARMOUR         Men Charged Breeze Running   \n",
       "15      Skechers          Men Woven Design Sneakers   \n",
       "16  Hush Puppies  Men Solid Leather Formal Slip-Ons   \n",
       "17        Reebok     Men Nanoflex TR Training Shoes   \n",
       "18  UNDER ARMOUR       Women Charged Breeze Running   \n",
       "19          Puma         Men Velocity Nitro Running   \n",
       "\n",
       "                             Price  \n",
       "0                         Rs. 9999  \n",
       "1                         Rs. 8999  \n",
       "2                        Rs. 12999  \n",
       "3                         Rs. 9999  \n",
       "4                         Rs. 8999  \n",
       "5                         Rs. 7999  \n",
       "6                        Rs. 10495  \n",
       "7       Rs. 7699Rs. 10999(30% OFF)  \n",
       "8       Rs. 7696Rs. 10995(30% OFF)  \n",
       "9                         Rs. 7999  \n",
       "10                       Rs. 10495  \n",
       "11                       Rs. 12999  \n",
       "12      Rs. 8046Rs. 11495(30% OFF)  \n",
       "13                       Rs. 11999  \n",
       "14                        Rs. 8999  \n",
       "15                        Rs. 7499  \n",
       "16  Rs. 7199Rs. 8999(Rs. 1800 OFF)  \n",
       "17                        Rs. 7999  \n",
       "18                        Rs. 8999  \n",
       "19      Rs. 7199Rs. 11999(40% OFF)  "
      ]
     },
     "execution_count": 99,
     "metadata": {},
     "output_type": "execute_result"
    }
   ],
   "source": [
    "df_Shoe = pd.DataFrame({\n",
    "    'Brand_Shoe' : Brand_Shoe,\n",
    "    'Product_Description' : Product_Desc,\n",
    "    'Price' : Shoe_Price\n",
    "})\n",
    "df_Shoe[:20]"
   ]
  },
  {
   "cell_type": "markdown",
   "metadata": {},
   "source": [
    "Q8: Go to webpage https://www.amazon.in/\n",
    "Enter “Laptop” in the search field and then click the search icon.\n",
    "Then set CPU Type filter to “Intel Core i7” as shown in the below image:\n",
    "After setting the filters scrape first 10 laptops data. You have to scrape 3 attributesfor each laptop:\n",
    "1. Title\n",
    "2. Ratings\n",
    "3. Price"
   ]
  },
  {
   "cell_type": "code",
   "execution_count": 100,
   "metadata": {},
   "outputs": [],
   "source": [
    "driver8 = webdriver.Chrome('chromedriver.exe')\n",
    "time.sleep(2)\n",
    "\n",
    "driver8.get('https://www.amazon.in/')"
   ]
  },
  {
   "cell_type": "code",
   "execution_count": 104,
   "metadata": {},
   "outputs": [],
   "source": [
    "prod_ser_1 = driver8.find_element_by_xpath(\"/html/body/div[1]/header/div/div[1]/div[2]/div/form/div[2]/div[1]/input\")\n",
    "prod_ser_1.send_keys(\"Laptop\")"
   ]
  },
  {
   "cell_type": "code",
   "execution_count": 105,
   "metadata": {},
   "outputs": [],
   "source": [
    "sub_button_1= driver8.find_element_by_xpath(\"/html/body/div[1]/header/div/div[1]/div[2]/div/form/div[3]/div/span/input\")\n",
    "sub_button_1.click()"
   ]
  },
  {
   "cell_type": "code",
   "execution_count": 106,
   "metadata": {},
   "outputs": [],
   "source": [
    "Filter_3 = driver8.find_element_by_xpath(\"/html/body/div[1]/div[2]/div[1]/div[2]/div/div[3]/span/div[1]/div/div/div[6]/ul[4]/li[14]/span/a/div\")\n",
    "Filter_3.click()"
   ]
  },
  {
   "cell_type": "code",
   "execution_count": 114,
   "metadata": {},
   "outputs": [
    {
     "data": {
      "text/plain": [
       "['ASUS VivoBook 14 (2021), 14-inch (35.56 cms) FHD, Intel Core i7-1065G7 10th Gen, Thin and Light Laptop (16GB/512GB SSD/Integrated Graphics/Office 2021/Windows 11/Silver/1.6 Kg), X415JA-EK701WS',\n",
       " 'HP Pavilion 14 12th Gen Intel Core i7 16GB SDRAM/1TB SSD 14 inch(35.6cm) FHD,IPS,Micro-Edge Display/Intel UHD Graphics/B&O/Win 11/Alexa Built-in/Backlit KB/FPR/MSO 2021/Natural Silver, 14-dv2015TU',\n",
       " 'ASUS TUF Gaming F15 (2021), 15.6\" (39.62 cms) FHD 144Hz, Intel Core i7-11600H 11th Gen, 4GB RTX 3050 Graphics, Gaming Laptop (16GB/512GB SSD/Windows 10/Office 2019/Gray/2.3 Kg), FX566HCB-HN299TS',\n",
       " 'LG Gram 17 Intel Evo 11th Gen i7 Thin & Light Laptop 2K+ IPS 16:10 Display [16 GB RAM/ 512 GB SSD/ Windows 11 / Iris Xe Graphics/ Thunderbolt 4/ USC -C x 2 / 1.35 kg, Black/ 3Yr Warranty] 17Z90P',\n",
       " 'ASUS Vivobook X515JA-EJ701WS Intel Core I7-1065G7 15.6 inches FHD 512 GB SSD /16 GB/Windows 11/Office 2019/1Y (Transparent Silver, 2 kg)',\n",
       " 'Lenovo IdeaPad 5 Pro 11th Gen Intel Core i7 14 inches QHD IPS Thin and Light Laptop (16GB/512GB SSD/Iris Xe Graphics/Windows 11/Office 2021/Backlit/300Nits/Storm Grey/1.41Kg), 82L3006YIN',\n",
       " 'HP Pavilion x360 11th Gen Intel Core i7 14 inch(35.6 cm) FHD Multitouch 2-in-1 Laptop(16GB RAM/512GB SSD/B&O/Win 11/FPR/Backlit KB/Intel Iris Xe Graphics/Pen/Alexa/MS Office/Silver/1.52Kg) 14-dy1047TU',\n",
       " 'Samsung Galaxy Book2 Intel 12th Gen core i7 39.6cm (15.6\") FHD LED Thin & Light Laptop (16 GB/512 GB SSD/Windows 11/MS Office/Backlit Keyboard/Fingerprint Reader/Silver/1.55Kg), NP750XED-KC2IN',\n",
       " 'ASUS TUF Gaming F15 (2021) 15.6-inch (39.62 cms) FHD 144Hz, Intel Core i7-11800H 11th Gen, RTX 3050 4GB Graphics, Gaming Laptop (8GB/1TB SSD/Windows 10/Gray/2.3 Kg), FX566HCB-HN231T, Eclipse Gray',\n",
       " 'Lenovo ThinkBook 15 Intel 11th Gen Core i7 15.6\"(39.62 cm)FHD Thin and Light Laptop (16GB/512GB SSD/Windows 11 Home/MS Office H&S 2021/Iris® Xe Graphics/Backlit/Mineral Grey/1.7 Kg) 20VE00W4IH',\n",
       " 'ASUS VivoBook K15 OLED (2021), 15.6-inch FHD OLED, Intel Core i7-1165G7 11th Gen, Thin and Light Laptop (16GB/512GB SSD/Iris Xe Graphics/Office 2021/Windows 11/Indie Black/1.8 Kg) K513EA-L712WS',\n",
       " 'LG Gram 14 Intel Evo 11th Gen  i7 Thin & Light Laptop 2K+ IPS 16:10 Display (16 GB RAM/ 512 GB SSD/ Windows 11 / Iris Xe Graphics/ Thunderbolt 4/ USC -C x 2 / 0.999Kg, Black/ 3Yr Warranty] 14Z90P',\n",
       " 'Lenovo IdeaPad Flex 5 11th Gen Intel Core i7 14\" FHD 2-in-1 Convertible Laptop (16 GB/512GB SDD/Windows 11/MS Office 2021/Backlit Keyboard /3months Xbox Game Pass/Graphite Grey/1.5Kg), 82HS018XIN',\n",
       " 'ASUS Zenbook 14 OLED (2022), 14\" (35.56 cms) 2.8K OLED 16:10 90Hz, Intel Core Evo i7-1260P 12th Gen, Thin and Light Laptop (16GB/512GB SSD/Windows 11/Office 2021/Blue/1.39 kg), UX3402ZA-KM731WS',\n",
       " 'HP Pavilion 11th Gen Intel Core i7 15.6 inches FHD Gaming Laptop (16GB RAM/512GB SSD/144Hz/4GB NVIDIA GeForce GTX 1650 Graphics/Windows 10 Home/MS Office/Shadow Black/2.28 Kg), 15-dk2075tx',\n",
       " 'Fujitsu UH-X 11th Gen Intel Core i7 13.3” FHD IPS 400Nits Thin & Light Laptop(16GB/512GB SSD/Windows 11/Office 2021/Iris Xe Graphics/Backlit Kb/Fingerprint Reader/2Yr Warranty/Black/878gms),4ZR1F38024',\n",
       " 'ASUS TUF Gaming F15 (2022), 15.6-inch (39.62 cms) FHD 144Hz, Intel Core i7-12700H 12th Gen, RTX 3050 Ti 4GB Graphics, Gaming Laptop (16GB/512GB SSD/Windows 11/Gray/2.2 Kg), FX507ZE-HN038W',\n",
       " 'HP Victus 11th Gen Intel Core i7-11800H 16.1-inch(40.9 cm) FHD Gaming Laptop (16GB RAM/512GB SSD/144 Hz/300 nits/7 ms Response time/GeForce RTX 3060 6GB Graphics/Backlit KB/Win 11/MSO), 16-d0361TX',\n",
       " 'Lenovo IdeaPad Gaming 3 Intel Core i7 10th Gen 15.6 inches FHD IPS 250Nits Gaming Laptop (8GB/512GB SSD/Windows 10 Home/NVIDIA GTX 1650 4GB GDDR6 Graphics/120Hz/Onyx Black/2.2Kg), 81Y4019EIN',\n",
       " 'ASUS Vivobook S15 OLED (2022), 15.6\" (39.62 cms) FHD OLED, Intel Core Evo i7-12700H 12th Gen, Thin and Light Laptop (16GB/512GB SSD/Iris Xe Graphics/Windows 11/Office 2021/Black/1.8 kg) K3502ZA-L702WS',\n",
       " 'HP Pavilion 15 12th Gen Intel Core i7 16GB SDRAM/1TB SSD 15.6 inch(39.6cm) FHD,IPS/Intel Iris Xe Graphics/B&O/Win 11/Alexa/Backlit KB/FPR/MSO 2021/1.75Kg, 15-EG2039TU, Natural Silver',\n",
       " '(Renewed) Samsung Galaxy Book2 360 Intel 12th Gen i7 EvoTM 33.78cm (13.3\") AMOLED Thin & Light Laptop (16 GB/512 GB SSD/Windows 11/MS Office/Backlit KB/Fingerprint Sensor/Graphite/1.16Kg), NP730QED-KA1IN',\n",
       " '(Renewed) Dell Latitude E7470 Intel Core i7 6th Gen 14 inches Laptop /16 GB RAM/512 GB SSD/Windows 10 Pro/MS Office/HD Display/Integrated Graphics, 1.9 kg',\n",
       " 'Lenovo ThinkBook 13s Intel 11th Gen Core i7 13.3\"(33.78 cm) WQXGA IPS 300 nits 100% sRGB Dolby Vision Thin and Light Laptop (16GB/512GB SSD/Windows 10 Professional/Mineral Grey/1.26 Kg), 20V9A038IH']"
      ]
     },
     "execution_count": 114,
     "metadata": {},
     "output_type": "execute_result"
    }
   ],
   "source": [
    "Title = []\n",
    "\n",
    "for i in driver8.find_elements_by_xpath(\"//h2[@class='a-size-mini a-spacing-none a-color-base s-line-clamp-2']\"):\n",
    "    Title.append(i.text)\n",
    "Title"
   ]
  },
  {
   "cell_type": "code",
   "execution_count": 115,
   "metadata": {},
   "outputs": [
    {
     "data": {
      "text/plain": [
       "24"
      ]
     },
     "execution_count": 115,
     "metadata": {},
     "output_type": "execute_result"
    }
   ],
   "source": [
    "len(Title)"
   ]
  },
  {
   "cell_type": "code",
   "execution_count": 113,
   "metadata": {},
   "outputs": [
    {
     "data": {
      "text/plain": [
       "['57,490',\n",
       " '86,990',\n",
       " '85,990',\n",
       " '88,990',\n",
       " '57,300',\n",
       " '74,490',\n",
       " '84,990',\n",
       " '79,990',\n",
       " '86,990',\n",
       " '86,990',\n",
       " '79,990',\n",
       " '88,499',\n",
       " '81,490',\n",
       " '1,04,990',\n",
       " '79,990',\n",
       " '82,090',\n",
       " '1,09,990',\n",
       " '1,20,062',\n",
       " '73,594',\n",
       " '94,990',\n",
       " '89,685',\n",
       " '90,092',\n",
       " '40,500',\n",
       " '89,990']"
      ]
     },
     "execution_count": 113,
     "metadata": {},
     "output_type": "execute_result"
    }
   ],
   "source": [
    "Rate = []\n",
    "\n",
    "for i in driver8.find_elements_by_xpath(\"//span[@class='a-price-whole']\"):\n",
    "    Rate.append(i.text)\n",
    "Rate"
   ]
  },
  {
   "cell_type": "code",
   "execution_count": 116,
   "metadata": {},
   "outputs": [
    {
     "data": {
      "text/html": [
       "<div>\n",
       "<style scoped>\n",
       "    .dataframe tbody tr th:only-of-type {\n",
       "        vertical-align: middle;\n",
       "    }\n",
       "\n",
       "    .dataframe tbody tr th {\n",
       "        vertical-align: top;\n",
       "    }\n",
       "\n",
       "    .dataframe thead th {\n",
       "        text-align: right;\n",
       "    }\n",
       "</style>\n",
       "<table border=\"1\" class=\"dataframe\">\n",
       "  <thead>\n",
       "    <tr style=\"text-align: right;\">\n",
       "      <th></th>\n",
       "      <th>Title</th>\n",
       "      <th>Rate</th>\n",
       "    </tr>\n",
       "  </thead>\n",
       "  <tbody>\n",
       "    <tr>\n",
       "      <th>0</th>\n",
       "      <td>ASUS VivoBook 14 (2021), 14-inch (35.56 cms) F...</td>\n",
       "      <td>57,490</td>\n",
       "    </tr>\n",
       "    <tr>\n",
       "      <th>1</th>\n",
       "      <td>HP Pavilion 14 12th Gen Intel Core i7 16GB SDR...</td>\n",
       "      <td>86,990</td>\n",
       "    </tr>\n",
       "    <tr>\n",
       "      <th>2</th>\n",
       "      <td>ASUS TUF Gaming F15 (2021), 15.6\" (39.62 cms) ...</td>\n",
       "      <td>85,990</td>\n",
       "    </tr>\n",
       "    <tr>\n",
       "      <th>3</th>\n",
       "      <td>LG Gram 17 Intel Evo 11th Gen i7 Thin &amp; Light ...</td>\n",
       "      <td>88,990</td>\n",
       "    </tr>\n",
       "    <tr>\n",
       "      <th>4</th>\n",
       "      <td>ASUS Vivobook X515JA-EJ701WS Intel Core I7-106...</td>\n",
       "      <td>57,300</td>\n",
       "    </tr>\n",
       "    <tr>\n",
       "      <th>5</th>\n",
       "      <td>Lenovo IdeaPad 5 Pro 11th Gen Intel Core i7 14...</td>\n",
       "      <td>74,490</td>\n",
       "    </tr>\n",
       "    <tr>\n",
       "      <th>6</th>\n",
       "      <td>HP Pavilion x360 11th Gen Intel Core i7 14 inc...</td>\n",
       "      <td>84,990</td>\n",
       "    </tr>\n",
       "    <tr>\n",
       "      <th>7</th>\n",
       "      <td>Samsung Galaxy Book2 Intel 12th Gen core i7 39...</td>\n",
       "      <td>79,990</td>\n",
       "    </tr>\n",
       "    <tr>\n",
       "      <th>8</th>\n",
       "      <td>ASUS TUF Gaming F15 (2021) 15.6-inch (39.62 cm...</td>\n",
       "      <td>86,990</td>\n",
       "    </tr>\n",
       "    <tr>\n",
       "      <th>9</th>\n",
       "      <td>Lenovo ThinkBook 15 Intel 11th Gen Core i7 15....</td>\n",
       "      <td>86,990</td>\n",
       "    </tr>\n",
       "    <tr>\n",
       "      <th>10</th>\n",
       "      <td>ASUS VivoBook K15 OLED (2021), 15.6-inch FHD O...</td>\n",
       "      <td>79,990</td>\n",
       "    </tr>\n",
       "    <tr>\n",
       "      <th>11</th>\n",
       "      <td>LG Gram 14 Intel Evo 11th Gen  i7 Thin &amp; Light...</td>\n",
       "      <td>88,499</td>\n",
       "    </tr>\n",
       "    <tr>\n",
       "      <th>12</th>\n",
       "      <td>Lenovo IdeaPad Flex 5 11th Gen Intel Core i7 1...</td>\n",
       "      <td>81,490</td>\n",
       "    </tr>\n",
       "    <tr>\n",
       "      <th>13</th>\n",
       "      <td>ASUS Zenbook 14 OLED (2022), 14\" (35.56 cms) 2...</td>\n",
       "      <td>1,04,990</td>\n",
       "    </tr>\n",
       "    <tr>\n",
       "      <th>14</th>\n",
       "      <td>HP Pavilion 11th Gen Intel Core i7 15.6 inches...</td>\n",
       "      <td>79,990</td>\n",
       "    </tr>\n",
       "    <tr>\n",
       "      <th>15</th>\n",
       "      <td>Fujitsu UH-X 11th Gen Intel Core i7 13.3” FHD ...</td>\n",
       "      <td>82,090</td>\n",
       "    </tr>\n",
       "    <tr>\n",
       "      <th>16</th>\n",
       "      <td>ASUS TUF Gaming F15 (2022), 15.6-inch (39.62 c...</td>\n",
       "      <td>1,09,990</td>\n",
       "    </tr>\n",
       "    <tr>\n",
       "      <th>17</th>\n",
       "      <td>HP Victus 11th Gen Intel Core i7-11800H 16.1-i...</td>\n",
       "      <td>1,20,062</td>\n",
       "    </tr>\n",
       "    <tr>\n",
       "      <th>18</th>\n",
       "      <td>Lenovo IdeaPad Gaming 3 Intel Core i7 10th Gen...</td>\n",
       "      <td>73,594</td>\n",
       "    </tr>\n",
       "    <tr>\n",
       "      <th>19</th>\n",
       "      <td>ASUS Vivobook S15 OLED (2022), 15.6\" (39.62 cm...</td>\n",
       "      <td>94,990</td>\n",
       "    </tr>\n",
       "    <tr>\n",
       "      <th>20</th>\n",
       "      <td>HP Pavilion 15 12th Gen Intel Core i7 16GB SDR...</td>\n",
       "      <td>89,685</td>\n",
       "    </tr>\n",
       "    <tr>\n",
       "      <th>21</th>\n",
       "      <td>(Renewed) Samsung Galaxy Book2 360 Intel 12th ...</td>\n",
       "      <td>90,092</td>\n",
       "    </tr>\n",
       "    <tr>\n",
       "      <th>22</th>\n",
       "      <td>(Renewed) Dell Latitude E7470 Intel Core i7 6t...</td>\n",
       "      <td>40,500</td>\n",
       "    </tr>\n",
       "    <tr>\n",
       "      <th>23</th>\n",
       "      <td>Lenovo ThinkBook 13s Intel 11th Gen Core i7 13...</td>\n",
       "      <td>89,990</td>\n",
       "    </tr>\n",
       "  </tbody>\n",
       "</table>\n",
       "</div>"
      ],
      "text/plain": [
       "                                                Title      Rate\n",
       "0   ASUS VivoBook 14 (2021), 14-inch (35.56 cms) F...    57,490\n",
       "1   HP Pavilion 14 12th Gen Intel Core i7 16GB SDR...    86,990\n",
       "2   ASUS TUF Gaming F15 (2021), 15.6\" (39.62 cms) ...    85,990\n",
       "3   LG Gram 17 Intel Evo 11th Gen i7 Thin & Light ...    88,990\n",
       "4   ASUS Vivobook X515JA-EJ701WS Intel Core I7-106...    57,300\n",
       "5   Lenovo IdeaPad 5 Pro 11th Gen Intel Core i7 14...    74,490\n",
       "6   HP Pavilion x360 11th Gen Intel Core i7 14 inc...    84,990\n",
       "7   Samsung Galaxy Book2 Intel 12th Gen core i7 39...    79,990\n",
       "8   ASUS TUF Gaming F15 (2021) 15.6-inch (39.62 cm...    86,990\n",
       "9   Lenovo ThinkBook 15 Intel 11th Gen Core i7 15....    86,990\n",
       "10  ASUS VivoBook K15 OLED (2021), 15.6-inch FHD O...    79,990\n",
       "11  LG Gram 14 Intel Evo 11th Gen  i7 Thin & Light...    88,499\n",
       "12  Lenovo IdeaPad Flex 5 11th Gen Intel Core i7 1...    81,490\n",
       "13  ASUS Zenbook 14 OLED (2022), 14\" (35.56 cms) 2...  1,04,990\n",
       "14  HP Pavilion 11th Gen Intel Core i7 15.6 inches...    79,990\n",
       "15  Fujitsu UH-X 11th Gen Intel Core i7 13.3” FHD ...    82,090\n",
       "16  ASUS TUF Gaming F15 (2022), 15.6-inch (39.62 c...  1,09,990\n",
       "17  HP Victus 11th Gen Intel Core i7-11800H 16.1-i...  1,20,062\n",
       "18  Lenovo IdeaPad Gaming 3 Intel Core i7 10th Gen...    73,594\n",
       "19  ASUS Vivobook S15 OLED (2022), 15.6\" (39.62 cm...    94,990\n",
       "20  HP Pavilion 15 12th Gen Intel Core i7 16GB SDR...    89,685\n",
       "21  (Renewed) Samsung Galaxy Book2 360 Intel 12th ...    90,092\n",
       "22  (Renewed) Dell Latitude E7470 Intel Core i7 6t...    40,500\n",
       "23  Lenovo ThinkBook 13s Intel 11th Gen Core i7 13...    89,990"
      ]
     },
     "execution_count": 116,
     "metadata": {},
     "output_type": "execute_result"
    }
   ],
   "source": [
    "df_Amazon = pd.DataFrame(\n",
    "{\n",
    "    'Title' : Title,\n",
    "    'Rate' : Rate\n",
    "})\n",
    "df_Amazon"
   ]
  },
  {
   "cell_type": "markdown",
   "metadata": {},
   "source": [
    "Q9: Write a python program to scrape data for first 10 job results for Data Scientist Designation in Noida\n",
    "location. You have to scrape company name, No. of days ago when job was posted, Rating of the company.\n",
    "This task will be done in following steps:\n",
    "1. First get the webpage https://www.ambitionbox.com/\n",
    "2. Click on the Job option as shown in the image\n",
    "3. After reaching to the next webpage, In place of “Search by Designations, Companies, Skills” enter\n",
    "“Data Scientist” and click on search button.\n",
    "4. You will reach to the following web page click on location and in place of “Search location” enter\n",
    "“Noida” and select location “Noida”.\n",
    "5. Then scrape the data for the first 10 jobs results you get on the above shown page.\n",
    "6. Finally create a dataframe of the scraped data.\n",
    "Note: All the steps required during scraping should be done through code only and not manually."
   ]
  },
  {
   "cell_type": "code",
   "execution_count": 117,
   "metadata": {},
   "outputs": [],
   "source": [
    "driver9 = webdriver.Chrome('chromedriver.exe')\n",
    "time.sleep(2)\n",
    "\n",
    "driver9.get('https://www.ambitionbox.com/')"
   ]
  },
  {
   "cell_type": "code",
   "execution_count": 121,
   "metadata": {},
   "outputs": [],
   "source": [
    "salary_comparison1 = driver9.find_element_by_xpath('/html/body/div/div/div/div[2]/div[1]/div[1]/div/div/div/div/span/input')\n",
    "salary_comparison1.send_keys(\"Data Scientist\")"
   ]
  },
  {
   "cell_type": "code",
   "execution_count": 122,
   "metadata": {},
   "outputs": [],
   "source": [
    "click_button1 = driver9.find_element_by_xpath(\"/html/body/div/div/div/div[2]/div[1]/div[1]/div/div/div/button/span\")\n",
    "click_button1.click()"
   ]
  },
  {
   "cell_type": "code",
   "execution_count": 123,
   "metadata": {},
   "outputs": [],
   "source": [
    "location_ = driver9.find_element_by_xpath(\"/html/body/div/div/div/div[2]/div[1]/div[2]/div[1]/div/div/div/div[2]/div[2]/div/div[3]/div[1]/div[5]/div/label\")\n",
    "location_.click()"
   ]
  },
  {
   "cell_type": "code",
   "execution_count": 125,
   "metadata": {},
   "outputs": [
    {
     "data": {
      "text/plain": [
       "['GENPACT India Private Limited',\n",
       " 'Optum Global Solutions (India) Private Limited',\n",
       " 'GENPACT India Private Limited',\n",
       " 'Hcl Technologies Limited',\n",
       " 'EXL Services.com ( I ) Pvt. Ltd.',\n",
       " 'Paytm',\n",
       " 'Om Software Internet Solutions Private Limited',\n",
       " 'Paytm',\n",
       " 'MOTHERSONSUMI INFOTECH & DESIGNS LIMITED',\n",
       " 'Ashkom Media India Private Limited']"
      ]
     },
     "execution_count": 125,
     "metadata": {},
     "output_type": "execute_result"
    }
   ],
   "source": [
    "COMPANY_NAME = []\n",
    "\n",
    "for i in driver9.find_elements_by_xpath(\"//p[@class='company body-medium']\"):\n",
    "    COMPANY_NAME.append(i.text)\n",
    "COMPANY_NAME"
   ]
  },
  {
   "cell_type": "code",
   "execution_count": 133,
   "metadata": {},
   "outputs": [
    {
     "data": {
      "text/plain": [
       "['4d ago',\n",
       " '12d ago',\n",
       " '11d ago',\n",
       " '14d ago',\n",
       " '25d ago',\n",
       " '7d ago',\n",
       " '15d ago',\n",
       " '25d ago',\n",
       " '12d ago',\n",
       " '11d ago']"
      ]
     },
     "execution_count": 133,
     "metadata": {},
     "output_type": "execute_result"
    }
   ],
   "source": [
    "No_of_days_posted = []\n",
    "\n",
    "for i in driver9.find_elements_by_xpath(\"//span[@class='body-small-l']\"):\n",
    "    No_of_days_posted.append(i.text)\n",
    "No_of_days_posted = No_of_days_posted[0:20:2]\n",
    "No_of_days_posted"
   ]
  },
  {
   "cell_type": "code",
   "execution_count": 134,
   "metadata": {},
   "outputs": [
    {
     "data": {
      "text/plain": [
       "['4.0', '4.2', '4.0', '3.9', '3.9', '3.7', '4.5', '3.7', '3.3', '3.5']"
      ]
     },
     "execution_count": 134,
     "metadata": {},
     "output_type": "execute_result"
    }
   ],
   "source": [
    "Rating_of_the_company = []\n",
    "\n",
    "for i in driver9.find_elements_by_xpath(\"//span[@class='body-small']\"):\n",
    "    Rating_of_the_company.append(i.text)\n",
    "Rating_of_the_company"
   ]
  },
  {
   "cell_type": "code",
   "execution_count": 135,
   "metadata": {},
   "outputs": [
    {
     "data": {
      "text/html": [
       "<div>\n",
       "<style scoped>\n",
       "    .dataframe tbody tr th:only-of-type {\n",
       "        vertical-align: middle;\n",
       "    }\n",
       "\n",
       "    .dataframe tbody tr th {\n",
       "        vertical-align: top;\n",
       "    }\n",
       "\n",
       "    .dataframe thead th {\n",
       "        text-align: right;\n",
       "    }\n",
       "</style>\n",
       "<table border=\"1\" class=\"dataframe\">\n",
       "  <thead>\n",
       "    <tr style=\"text-align: right;\">\n",
       "      <th></th>\n",
       "      <th>COMPANY_NAME</th>\n",
       "      <th>No_of_days_posted_when_job_posted</th>\n",
       "      <th>Rating_of_the_company</th>\n",
       "    </tr>\n",
       "  </thead>\n",
       "  <tbody>\n",
       "    <tr>\n",
       "      <th>0</th>\n",
       "      <td>GENPACT India Private Limited</td>\n",
       "      <td>4d ago</td>\n",
       "      <td>4.0</td>\n",
       "    </tr>\n",
       "    <tr>\n",
       "      <th>1</th>\n",
       "      <td>Optum Global Solutions (India) Private Limited</td>\n",
       "      <td>12d ago</td>\n",
       "      <td>4.2</td>\n",
       "    </tr>\n",
       "    <tr>\n",
       "      <th>2</th>\n",
       "      <td>GENPACT India Private Limited</td>\n",
       "      <td>11d ago</td>\n",
       "      <td>4.0</td>\n",
       "    </tr>\n",
       "    <tr>\n",
       "      <th>3</th>\n",
       "      <td>Hcl Technologies Limited</td>\n",
       "      <td>14d ago</td>\n",
       "      <td>3.9</td>\n",
       "    </tr>\n",
       "    <tr>\n",
       "      <th>4</th>\n",
       "      <td>EXL Services.com ( I ) Pvt. Ltd.</td>\n",
       "      <td>25d ago</td>\n",
       "      <td>3.9</td>\n",
       "    </tr>\n",
       "    <tr>\n",
       "      <th>5</th>\n",
       "      <td>Paytm</td>\n",
       "      <td>7d ago</td>\n",
       "      <td>3.7</td>\n",
       "    </tr>\n",
       "    <tr>\n",
       "      <th>6</th>\n",
       "      <td>Om Software Internet Solutions Private Limited</td>\n",
       "      <td>15d ago</td>\n",
       "      <td>4.5</td>\n",
       "    </tr>\n",
       "    <tr>\n",
       "      <th>7</th>\n",
       "      <td>Paytm</td>\n",
       "      <td>25d ago</td>\n",
       "      <td>3.7</td>\n",
       "    </tr>\n",
       "    <tr>\n",
       "      <th>8</th>\n",
       "      <td>MOTHERSONSUMI INFOTECH &amp; DESIGNS LIMITED</td>\n",
       "      <td>12d ago</td>\n",
       "      <td>3.3</td>\n",
       "    </tr>\n",
       "    <tr>\n",
       "      <th>9</th>\n",
       "      <td>Ashkom Media India Private Limited</td>\n",
       "      <td>11d ago</td>\n",
       "      <td>3.5</td>\n",
       "    </tr>\n",
       "  </tbody>\n",
       "</table>\n",
       "</div>"
      ],
      "text/plain": [
       "                                     COMPANY_NAME  \\\n",
       "0                   GENPACT India Private Limited   \n",
       "1  Optum Global Solutions (India) Private Limited   \n",
       "2                   GENPACT India Private Limited   \n",
       "3                        Hcl Technologies Limited   \n",
       "4                EXL Services.com ( I ) Pvt. Ltd.   \n",
       "5                                           Paytm   \n",
       "6  Om Software Internet Solutions Private Limited   \n",
       "7                                           Paytm   \n",
       "8        MOTHERSONSUMI INFOTECH & DESIGNS LIMITED   \n",
       "9              Ashkom Media India Private Limited   \n",
       "\n",
       "  No_of_days_posted_when_job_posted Rating_of_the_company  \n",
       "0                            4d ago                   4.0  \n",
       "1                           12d ago                   4.2  \n",
       "2                           11d ago                   4.0  \n",
       "3                           14d ago                   3.9  \n",
       "4                           25d ago                   3.9  \n",
       "5                            7d ago                   3.7  \n",
       "6                           15d ago                   4.5  \n",
       "7                           25d ago                   3.7  \n",
       "8                           12d ago                   3.3  \n",
       "9                           11d ago                   3.5  "
      ]
     },
     "execution_count": 135,
     "metadata": {},
     "output_type": "execute_result"
    }
   ],
   "source": [
    "df_Jobs_Delhi_DS = pd.DataFrame(\n",
    "{\n",
    "    'COMPANY_NAME' : COMPANY_NAME,\n",
    "    'No_of_days_posted_when_job_posted' : No_of_days_posted,\n",
    "    'Rating_of_the_company' : Rating_of_the_company\n",
    "})\n",
    "\n",
    "df_Jobs_Delhi_DS"
   ]
  },
  {
   "cell_type": "markdown",
   "metadata": {},
   "source": [
    "Q10: Write a python program to scrape the salary data for Data Scientist designation.\n",
    "You have to scrape Company name, Number of salaries, Average salary, Minsalary, Max Salary.\n",
    "The above task will be, done as shown in the below steps:\n",
    "1. First get the webpage https://www.ambitionbox.com/\n",
    "2. Click on the salaries option as shown in the image.\n",
    "3. After reaching to the following webpage, In place of “Search Job Profile” enters “Data Scientist” and\n",
    "then click on “Data Scientist”.\n",
    "You have to scrape the data ticked in the above image.\n",
    "4. Scrape the data for the first 10 companies. Scrape the company name, total salary record, average\n",
    "salary, minimum salary, maximum salary, experience required.\n",
    "5. Store the data in a dataframe."
   ]
  },
  {
   "cell_type": "code",
   "execution_count": 159,
   "metadata": {},
   "outputs": [
    {
     "data": {
      "text/plain": [
       "<selenium.webdriver.chrome.webdriver.WebDriver (session=\"d6dcf816ca72547743437074d3035a20\")>"
      ]
     },
     "execution_count": 159,
     "metadata": {},
     "output_type": "execute_result"
    }
   ],
   "source": [
    "driver = webdriver.Chrome(r\"C:\\Users\\User\\Desktop\\Data Science\\Internship_28\\chromedriver.exe\")\n",
    "driver"
   ]
  },
  {
   "cell_type": "code",
   "execution_count": 160,
   "metadata": {},
   "outputs": [],
   "source": [
    "driver.get('http://www.ambitionbox.com/')"
   ]
  },
  {
   "cell_type": "code",
   "execution_count": 163,
   "metadata": {},
   "outputs": [],
   "source": [
    "salary_comparison = driver.find_element_by_xpath('/html/body/div/div/div/main/section[1]/div[2]/div[1]/span/input')\n",
    "salary_comparison.send_keys(\"Data Scientist\")"
   ]
  },
  {
   "cell_type": "code",
   "execution_count": 164,
   "metadata": {
    "scrolled": true
   },
   "outputs": [],
   "source": [
    "click_button = driver.find_element_by_xpath(\"/html/body/div/div/div/main/section[1]/div[2]/div[1]/span/div/div/div[1]/div/div/p\")\n",
    "click_button.click()"
   ]
  },
  {
   "cell_type": "code",
   "execution_count": 167,
   "metadata": {},
   "outputs": [],
   "source": [
    "company_name = []"
   ]
  },
  {
   "cell_type": "code",
   "execution_count": 168,
   "metadata": {},
   "outputs": [
    {
     "data": {
      "text/plain": [
       "[<selenium.webdriver.remote.webelement.WebElement (session=\"d6dcf816ca72547743437074d3035a20\", element=\"3e49fe92-3259-4b76-b47d-319c179a54b6\")>,\n",
       " <selenium.webdriver.remote.webelement.WebElement (session=\"d6dcf816ca72547743437074d3035a20\", element=\"71c8ebce-1302-4fd0-bb49-05a9320096ca\")>,\n",
       " <selenium.webdriver.remote.webelement.WebElement (session=\"d6dcf816ca72547743437074d3035a20\", element=\"5e1f0739-cbbb-46d8-a3b8-86c47630015d\")>,\n",
       " <selenium.webdriver.remote.webelement.WebElement (session=\"d6dcf816ca72547743437074d3035a20\", element=\"3726b2f8-b278-44d6-b9ca-8069ad174d4f\")>,\n",
       " <selenium.webdriver.remote.webelement.WebElement (session=\"d6dcf816ca72547743437074d3035a20\", element=\"09a0b344-510c-43f1-bdfc-4785991594c3\")>,\n",
       " <selenium.webdriver.remote.webelement.WebElement (session=\"d6dcf816ca72547743437074d3035a20\", element=\"a826ba27-4686-4f94-8e35-bffc820d39d3\")>,\n",
       " <selenium.webdriver.remote.webelement.WebElement (session=\"d6dcf816ca72547743437074d3035a20\", element=\"18c6d21a-2af3-42b6-a48d-9a8c995704cc\")>,\n",
       " <selenium.webdriver.remote.webelement.WebElement (session=\"d6dcf816ca72547743437074d3035a20\", element=\"50cd439e-9a80-47a2-8638-ca1d110073b4\")>,\n",
       " <selenium.webdriver.remote.webelement.WebElement (session=\"d6dcf816ca72547743437074d3035a20\", element=\"2d5cfd41-a278-415d-81e7-c63bea22bb9a\")>,\n",
       " <selenium.webdriver.remote.webelement.WebElement (session=\"d6dcf816ca72547743437074d3035a20\", element=\"2c8bc779-a8d4-4d36-a1b3-208f031930c2\")>]"
      ]
     },
     "execution_count": 168,
     "metadata": {},
     "output_type": "execute_result"
    }
   ],
   "source": [
    "company = driver.find_elements_by_xpath(\"//div[@class='name']\")\n",
    "company"
   ]
  },
  {
   "cell_type": "code",
   "execution_count": 169,
   "metadata": {},
   "outputs": [
    {
     "data": {
      "text/plain": [
       "['Walmart\\nbased on 12 salaries',\n",
       " 'Ab Inbev\\nbased on 33 salaries',\n",
       " 'American Express\\nbased on 10 salaries',\n",
       " 'ZS\\nbased on 15 salaries',\n",
       " 'Optum\\nbased on 33 salaries',\n",
       " 'Reliance Jio\\nbased on 21 salaries',\n",
       " 'Fractal Analytics\\nbased on 83 salaries',\n",
       " 'Tiger Analytics\\nbased on 50 salaries',\n",
       " 'UnitedHealth\\nbased on 57 salaries',\n",
       " 'EXL Service\\nbased on 10 salaries']"
      ]
     },
     "execution_count": 169,
     "metadata": {},
     "output_type": "execute_result"
    }
   ],
   "source": [
    "for i in company:\n",
    "    c = i.text\n",
    "    company_name.append(c)\n",
    "company_name"
   ]
  },
  {
   "cell_type": "code",
   "execution_count": 170,
   "metadata": {
    "scrolled": true
   },
   "outputs": [],
   "source": [
    "company_name = [i.split('\\n')[0] for i in company_name]"
   ]
  },
  {
   "cell_type": "code",
   "execution_count": 171,
   "metadata": {},
   "outputs": [
    {
     "data": {
      "text/plain": [
       "['Walmart',\n",
       " 'Ab Inbev',\n",
       " 'American Express',\n",
       " 'ZS',\n",
       " 'Optum',\n",
       " 'Reliance Jio',\n",
       " 'Fractal Analytics',\n",
       " 'Tiger Analytics',\n",
       " 'UnitedHealth',\n",
       " 'EXL Service']"
      ]
     },
     "execution_count": 171,
     "metadata": {},
     "output_type": "execute_result"
    }
   ],
   "source": [
    "company_name"
   ]
  },
  {
   "cell_type": "code",
   "execution_count": 172,
   "metadata": {},
   "outputs": [
    {
     "data": {
      "text/plain": [
       "['₹ 30.2L',\n",
       " '₹ 20.6L',\n",
       " '₹ 19.9L',\n",
       " '₹ 16.7L',\n",
       " '₹ 16.1L',\n",
       " '₹ 15.7L',\n",
       " '₹ 15.4L',\n",
       " '₹ 14.8L',\n",
       " '₹ 14.0L',\n",
       " '₹ 13.3L']"
      ]
     },
     "execution_count": 172,
     "metadata": {},
     "output_type": "execute_result"
    }
   ],
   "source": [
    "average_salary = []\n",
    "\n",
    "avg = driver.find_elements_by_xpath(\"//p[@class='averageCtc']\")\n",
    "avg\n",
    "\n",
    "for a in avg:\n",
    "    average_salary.append(a.text)\n",
    "average_salary"
   ]
  },
  {
   "cell_type": "code",
   "execution_count": 173,
   "metadata": {},
   "outputs": [
    {
     "data": {
      "text/plain": [
       "['₹ 25.0L',\n",
       " '₹ 15.0L',\n",
       " '₹ 14.1L',\n",
       " '₹ 11.0L',\n",
       " '₹ 11.0L',\n",
       " '₹ 5.6L',\n",
       " '₹ 10.0L',\n",
       " '₹ 9.0L',\n",
       " '₹ 8.3L',\n",
       " '₹ 8.9L']"
      ]
     },
     "execution_count": 173,
     "metadata": {},
     "output_type": "execute_result"
    }
   ],
   "source": [
    "min_salary = []\n",
    "\n",
    "minimum = driver.find_elements_by_xpath(\"//div[@class='salary-values']\")\n",
    "minimum\n",
    "\n",
    "for m in minimum:\n",
    "    min_salary.append(m.text)\n",
    "min_salary\n",
    "\n",
    "min_salary = [m.split('\\n')[0] for m in min_salary]\n",
    "min_salary"
   ]
  },
  {
   "cell_type": "code",
   "execution_count": 174,
   "metadata": {},
   "outputs": [
    {
     "data": {
      "text/plain": [
       "['₹ 36.0L',\n",
       " '₹ 25.5L',\n",
       " '₹ 25.0L',\n",
       " '₹ 22.0L',\n",
       " '₹ 22.6L',\n",
       " '₹ 26.2L',\n",
       " '₹ 22.0L',\n",
       " '₹ 20.0L',\n",
       " '₹ 21.1L',\n",
       " '₹ 21.0L']"
      ]
     },
     "execution_count": 174,
     "metadata": {},
     "output_type": "execute_result"
    }
   ],
   "source": [
    "max_salary = []\n",
    "\n",
    "maximum = driver.find_elements_by_xpath(\"//div[@class='salary-values']\")\n",
    "maximum\n",
    "\n",
    "for ma in maximum:\n",
    "    max_salary.append(ma.text)\n",
    "max_salary\n",
    "\n",
    "max_salary = [ma.split('\\n')[1] for ma in max_salary]\n",
    "max_salary"
   ]
  },
  {
   "cell_type": "code",
   "execution_count": 175,
   "metadata": {},
   "outputs": [
    {
     "data": {
      "text/plain": [
       "['3 yrs exp',\n",
       " '3-4 yrs exp',\n",
       " '4 yrs exp',\n",
       " '2 yrs exp',\n",
       " '3-4 yrs exp',\n",
       " '3-4 yrs exp',\n",
       " '2-4 yrs exp',\n",
       " '2-4 yrs exp',\n",
       " '2-4 yrs exp',\n",
       " '4 yrs exp']"
      ]
     },
     "execution_count": 175,
     "metadata": {},
     "output_type": "execute_result"
    }
   ],
   "source": [
    "experience = []\n",
    "\n",
    "exp = driver.find_elements_by_xpath('//div[@class=\"salaries sbold-list-header\"]')\n",
    "exp\n",
    "\n",
    "for e in exp:\n",
    "    experience.append(e.text)\n",
    "experience\n",
    "\n",
    "experience = [e.split('\\n')[2] for e in experience]\n",
    "experience"
   ]
  },
  {
   "cell_type": "code",
   "execution_count": 176,
   "metadata": {},
   "outputs": [
    {
     "data": {
      "text/html": [
       "<div>\n",
       "<style scoped>\n",
       "    .dataframe tbody tr th:only-of-type {\n",
       "        vertical-align: middle;\n",
       "    }\n",
       "\n",
       "    .dataframe tbody tr th {\n",
       "        vertical-align: top;\n",
       "    }\n",
       "\n",
       "    .dataframe thead th {\n",
       "        text-align: right;\n",
       "    }\n",
       "</style>\n",
       "<table border=\"1\" class=\"dataframe\">\n",
       "  <thead>\n",
       "    <tr style=\"text-align: right;\">\n",
       "      <th></th>\n",
       "      <th>Company Name</th>\n",
       "      <th>Minimum Salary</th>\n",
       "      <th>Maximum Salary</th>\n",
       "      <th>Average Salary</th>\n",
       "      <th>Experience</th>\n",
       "    </tr>\n",
       "  </thead>\n",
       "  <tbody>\n",
       "    <tr>\n",
       "      <th>0</th>\n",
       "      <td>Walmart</td>\n",
       "      <td>₹ 25.0L</td>\n",
       "      <td>₹ 36.0L</td>\n",
       "      <td>₹ 30.2L</td>\n",
       "      <td>3 yrs exp</td>\n",
       "    </tr>\n",
       "    <tr>\n",
       "      <th>1</th>\n",
       "      <td>Ab Inbev</td>\n",
       "      <td>₹ 15.0L</td>\n",
       "      <td>₹ 25.5L</td>\n",
       "      <td>₹ 20.6L</td>\n",
       "      <td>3-4 yrs exp</td>\n",
       "    </tr>\n",
       "    <tr>\n",
       "      <th>2</th>\n",
       "      <td>American Express</td>\n",
       "      <td>₹ 14.1L</td>\n",
       "      <td>₹ 25.0L</td>\n",
       "      <td>₹ 19.9L</td>\n",
       "      <td>4 yrs exp</td>\n",
       "    </tr>\n",
       "    <tr>\n",
       "      <th>3</th>\n",
       "      <td>ZS</td>\n",
       "      <td>₹ 11.0L</td>\n",
       "      <td>₹ 22.0L</td>\n",
       "      <td>₹ 16.7L</td>\n",
       "      <td>2 yrs exp</td>\n",
       "    </tr>\n",
       "    <tr>\n",
       "      <th>4</th>\n",
       "      <td>Optum</td>\n",
       "      <td>₹ 11.0L</td>\n",
       "      <td>₹ 22.6L</td>\n",
       "      <td>₹ 16.1L</td>\n",
       "      <td>3-4 yrs exp</td>\n",
       "    </tr>\n",
       "    <tr>\n",
       "      <th>5</th>\n",
       "      <td>Reliance Jio</td>\n",
       "      <td>₹ 5.6L</td>\n",
       "      <td>₹ 26.2L</td>\n",
       "      <td>₹ 15.7L</td>\n",
       "      <td>3-4 yrs exp</td>\n",
       "    </tr>\n",
       "    <tr>\n",
       "      <th>6</th>\n",
       "      <td>Fractal Analytics</td>\n",
       "      <td>₹ 10.0L</td>\n",
       "      <td>₹ 22.0L</td>\n",
       "      <td>₹ 15.4L</td>\n",
       "      <td>2-4 yrs exp</td>\n",
       "    </tr>\n",
       "    <tr>\n",
       "      <th>7</th>\n",
       "      <td>Tiger Analytics</td>\n",
       "      <td>₹ 9.0L</td>\n",
       "      <td>₹ 20.0L</td>\n",
       "      <td>₹ 14.8L</td>\n",
       "      <td>2-4 yrs exp</td>\n",
       "    </tr>\n",
       "    <tr>\n",
       "      <th>8</th>\n",
       "      <td>UnitedHealth</td>\n",
       "      <td>₹ 8.3L</td>\n",
       "      <td>₹ 21.1L</td>\n",
       "      <td>₹ 14.0L</td>\n",
       "      <td>2-4 yrs exp</td>\n",
       "    </tr>\n",
       "    <tr>\n",
       "      <th>9</th>\n",
       "      <td>EXL Service</td>\n",
       "      <td>₹ 8.9L</td>\n",
       "      <td>₹ 21.0L</td>\n",
       "      <td>₹ 13.3L</td>\n",
       "      <td>4 yrs exp</td>\n",
       "    </tr>\n",
       "  </tbody>\n",
       "</table>\n",
       "</div>"
      ],
      "text/plain": [
       "        Company Name Minimum Salary Maximum Salary Average Salary   Experience\n",
       "0            Walmart        ₹ 25.0L        ₹ 36.0L        ₹ 30.2L    3 yrs exp\n",
       "1           Ab Inbev        ₹ 15.0L        ₹ 25.5L        ₹ 20.6L  3-4 yrs exp\n",
       "2   American Express        ₹ 14.1L        ₹ 25.0L        ₹ 19.9L    4 yrs exp\n",
       "3                 ZS        ₹ 11.0L        ₹ 22.0L        ₹ 16.7L    2 yrs exp\n",
       "4              Optum        ₹ 11.0L        ₹ 22.6L        ₹ 16.1L  3-4 yrs exp\n",
       "5       Reliance Jio         ₹ 5.6L        ₹ 26.2L        ₹ 15.7L  3-4 yrs exp\n",
       "6  Fractal Analytics        ₹ 10.0L        ₹ 22.0L        ₹ 15.4L  2-4 yrs exp\n",
       "7    Tiger Analytics         ₹ 9.0L        ₹ 20.0L        ₹ 14.8L  2-4 yrs exp\n",
       "8       UnitedHealth         ₹ 8.3L        ₹ 21.1L        ₹ 14.0L  2-4 yrs exp\n",
       "9        EXL Service         ₹ 8.9L        ₹ 21.0L        ₹ 13.3L    4 yrs exp"
      ]
     },
     "execution_count": 176,
     "metadata": {},
     "output_type": "execute_result"
    }
   ],
   "source": [
    "df_Salaries = pd.DataFrame({\n",
    "    'Company Name' : company_name,\n",
    "    'Minimum Salary' : min_salary,\n",
    "    'Maximum Salary' : max_salary,\n",
    "    'Average Salary' : average_salary,\n",
    "    'Experience' : experience\n",
    "})\n",
    "df_Salaries"
   ]
  },
  {
   "cell_type": "code",
   "execution_count": null,
   "metadata": {},
   "outputs": [],
   "source": []
  }
 ],
 "metadata": {
  "kernelspec": {
   "display_name": "Python 3",
   "language": "python",
   "name": "python3"
  },
  "language_info": {
   "codemirror_mode": {
    "name": "ipython",
    "version": 3
   },
   "file_extension": ".py",
   "mimetype": "text/x-python",
   "name": "python",
   "nbconvert_exporter": "python",
   "pygments_lexer": "ipython3",
   "version": "3.7.6"
  }
 },
 "nbformat": 4,
 "nbformat_minor": 4
}
